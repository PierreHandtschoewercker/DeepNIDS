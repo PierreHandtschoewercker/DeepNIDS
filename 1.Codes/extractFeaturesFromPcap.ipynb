{
 "cells": [
  {
   "cell_type": "code",
   "execution_count": 59,
   "metadata": {},
   "outputs": [],
   "source": [
    "import pyshark\n",
    "import os\n",
    "import pandas\n",
    "from netml.pparser.parser import PCAP\n",
    "from netml.utils.tool import dump_data\n",
    "import pprint"
   ]
  },
  {
   "cell_type": "code",
   "execution_count": 60,
   "metadata": {},
   "outputs": [],
   "source": [
    "dataDir = \"/code/2.Malwares/\"\n",
    "targetFile = \"Zeus.pcap\"\n",
    "destination = dataDir + \"out\"\n",
    "tsharkPath=\"/usr/bin/tshark\""
   ]
  },
  {
   "cell_type": "code",
   "execution_count": 61,
   "id": "76c7599f",
   "metadata": {},
   "outputs": [
    {
     "output_type": "stream",
     "name": "stdout",
     "text": [
      "'_pcap2flows()' starts at 2021-04-18 17:01:29\n",
      "pcap_file: /code/2.Malwares/Zeus.pcap\n",
      "ith_packets: 0\n",
      "ith_packets: 10000\n",
      "ith_packets: 20000\n",
      "ith_packets: 30000\n",
      "ith_packets: 40000\n",
      "ith_packets: 50000\n",
      "ith_packets: 60000\n",
      "ith_packets: 70000\n",
      "ith_packets: 80000\n",
      "ith_packets: 90000\n",
      "len(flows): 21741\n",
      "total number of flows: 21741. Num of flows < 2 pkts: 4765, and >=2 pkts: 16976 without timeout splitting.\n",
      "kept flows: 16585. Each of them has at least 2 pkts after timeout splitting.\n",
      "flow_durations.shape: (16585, 1)\n",
      "          col_0\n",
      "count 16585.000\n",
      "mean     11.030\n",
      "std     506.590\n",
      "min       0.000\n",
      "25%       0.000\n",
      "50%       1.365\n",
      "75%       1.394\n",
      "max   32587.277\n",
      "<class 'pandas.core.frame.DataFrame'>\n",
      "RangeIndex: 16585 entries, 0 to 16584\n",
      "Data columns (total 1 columns):\n",
      " #   Column  Non-Null Count  Dtype  \n",
      "---  ------  --------------  -----  \n",
      " 0   col_0   16585 non-null  float64\n",
      "dtypes: float64(1)\n",
      "memory usage: 129.7 KB\n",
      "None\n",
      "0th_flow: len(pkts): 4\n",
      "1000th_flow: len(pkts): 6\n",
      "2000th_flow: len(pkts): 3\n",
      "3000th_flow: len(pkts): 2\n",
      "4000th_flow: len(pkts): 6\n",
      "5000th_flow: len(pkts): 3\n",
      "6000th_flow: len(pkts): 9\n",
      "7000th_flow: len(pkts): 2\n",
      "8000th_flow: len(pkts): 6\n",
      "9000th_flow: len(pkts): 3\n",
      "10000th_flow: len(pkts): 2\n",
      "11000th_flow: len(pkts): 3\n",
      "12000th_flow: len(pkts): 3\n",
      "13000th_flow: len(pkts): 6\n",
      "14000th_flow: len(pkts): 6\n",
      "15000th_flow: len(pkts): 2\n",
      "16000th_flow: len(pkts): 4\n",
      "After splitting flows, the number of subflows: 19254 and each of them has at least 2 packets.\n",
      "'_pcap2flows()' ends at 2021-04-18 17:02:37 and takes 1.1356 mins.\n"
     ]
    }
   ],
   "source": [
    "\n",
    "parsedPcap = PCAP(dataDir + targetFile,\n",
    "    flow_ptks_thres=2,\n",
    " )\n",
    "parsedPcap.pcap2flows(q_interval=0.9)\n"
   ]
  },
  {
   "cell_type": "code",
   "execution_count": 69,
   "metadata": {},
   "outputs": [
    {
     "output_type": "stream",
     "name": "stdout",
     "text": [
      "'_label_flows()' starts at 2021-04-18 17:09:09\n'_label_flows()' ends at 2021-04-18 17:09:09 and takes 0.0003 mins.\n[(('192.168.0.250', '239.255.255.250', 49152, 3702, 17),\n  [<Ether  dst=01:00:5e:7f:ff:fa src=08:00:27:3c:8d:c9 type=IPv4 |<IP  version=4 ihl=5 tos=0x0 len=1017 id=68 flags= frag=0 ttl=1 proto=udp chksum=0x414 src=192.168.0.250 dst=239.255.255.250 |<UDP  sport=49152 dport=3702 len=997 chksum=0xc3ad |<Raw  load='<?xml version=\"1.0\" encoding=\"utf-8\"?><soap:Envelope xmlns:soap=\"http://www.w3.org/2003/05/soap-envelope\" xmlns:wsa=\"http://schemas.xmlsoap.org/ws/2004/08/addressing\" xmlns:wsd=\"http://schemas.xmlsoap.org/ws/2005/04/discovery\" xmlns:wsdp=\"http://schemas.xmlsoap.org/ws/2006/02/devprof\" xmlns:pub=\"http://schemas.microsoft.com/windows/pub/2005/07\"><soap:Header><wsa:To>urn:schemas-xmlsoap-org:ws:2005:04:discovery</wsa:To><wsa:Action>http://schemas.xmlsoap.org/ws/2005/04/discovery/Hello</wsa:Action><wsa:MessageID>urn:uuid:fbbc82fb-9bdb-4631-a88a-32f048603c70</wsa:MessageID><wsd:AppSequence InstanceId=\"7\" SequenceId=\"urn:uuid:b0d0b29f-9826-4ddd-9498-c6d8f5907959\" MessageNumber=\"10\"></wsd:AppSequence></soap:Header><soap:Body><wsd:Hello><wsa:EndpointReference><wsa:Address>urn:uuid:acc7fe12-3135-466d-a131-c5ba9b41ee06</wsa:Address></wsa:EndpointReference><wsd:Types>wsdp:Device pub:Computer</wsd:Types><wsd:MetadataVersion>4</wsd:MetadataVersion></wsd:Hello></soap:Body></soap:Envelope>' |>>>>,\n   <Ether  dst=01:00:5e:7f:ff:fa src=78:e4:00:6c:39:cd type=IPv4 |<IP  version=4 ihl=5 tos=0x0 len=1017 id=68 flags= frag=0 ttl=1 proto=udp chksum=0x414 src=192.168.0.250 dst=239.255.255.250 |<UDP  sport=49152 dport=3702 len=997 chksum=0xc3ad |<Raw  load='<?xml version=\"1.0\" encoding=\"utf-8\"?><soap:Envelope xmlns:soap=\"http://www.w3.org/2003/05/soap-envelope\" xmlns:wsa=\"http://schemas.xmlsoap.org/ws/2004/08/addressing\" xmlns:wsd=\"http://schemas.xmlsoap.org/ws/2005/04/discovery\" xmlns:wsdp=\"http://schemas.xmlsoap.org/ws/2006/02/devprof\" xmlns:pub=\"http://schemas.microsoft.com/windows/pub/2005/07\"><soap:Header><wsa:To>urn:schemas-xmlsoap-org:ws:2005:04:discovery</wsa:To><wsa:Action>http://schemas.xmlsoap.org/ws/2005/04/discovery/Hello</wsa:Action><wsa:MessageID>urn:uuid:fbbc82fb-9bdb-4631-a88a-32f048603c70</wsa:MessageID><wsd:AppSequence InstanceId=\"7\" SequenceId=\"urn:uuid:b0d0b29f-9826-4ddd-9498-c6d8f5907959\" MessageNumber=\"10\"></wsd:AppSequence></soap:Header><soap:Body><wsd:Hello><wsa:EndpointReference><wsa:Address>urn:uuid:acc7fe12-3135-466d-a131-c5ba9b41ee06</wsa:Address></wsa:EndpointReference><wsd:Types>wsdp:Device pub:Computer</wsd:Types><wsd:MetadataVersion>4</wsd:MetadataVersion></wsd:Hello></soap:Body></soap:Envelope>' |>>>>,\n   <Ether  dst=01:00:5e:7f:ff:fa src=08:00:27:3c:8d:c9 type=IPv4 |<IP  version=4 ihl=5 tos=0x0 len=1017 id=71 flags= frag=0 ttl=1 proto=udp chksum=0x411 src=192.168.0.250 dst=239.255.255.250 |<UDP  sport=49152 dport=3702 len=997 chksum=0xc3ad |<Raw  load='<?xml version=\"1.0\" encoding=\"utf-8\"?><soap:Envelope xmlns:soap=\"http://www.w3.org/2003/05/soap-envelope\" xmlns:wsa=\"http://schemas.xmlsoap.org/ws/2004/08/addressing\" xmlns:wsd=\"http://schemas.xmlsoap.org/ws/2005/04/discovery\" xmlns:wsdp=\"http://schemas.xmlsoap.org/ws/2006/02/devprof\" xmlns:pub=\"http://schemas.microsoft.com/windows/pub/2005/07\"><soap:Header><wsa:To>urn:schemas-xmlsoap-org:ws:2005:04:discovery</wsa:To><wsa:Action>http://schemas.xmlsoap.org/ws/2005/04/discovery/Hello</wsa:Action><wsa:MessageID>urn:uuid:fbbc82fb-9bdb-4631-a88a-32f048603c70</wsa:MessageID><wsd:AppSequence InstanceId=\"7\" SequenceId=\"urn:uuid:b0d0b29f-9826-4ddd-9498-c6d8f5907959\" MessageNumber=\"10\"></wsd:AppSequence></soap:Header><soap:Body><wsd:Hello><wsa:EndpointReference><wsa:Address>urn:uuid:acc7fe12-3135-466d-a131-c5ba9b41ee06</wsa:Address></wsa:EndpointReference><wsd:Types>wsdp:Device pub:Computer</wsd:Types><wsd:MetadataVersion>4</wsd:MetadataVersion></wsd:Hello></soap:Body></soap:Envelope>' |>>>>,\n   <Ether  dst=01:00:5e:7f:ff:fa src=78:e4:00:6c:39:cd type=IPv4 |<IP  version=4 ihl=5 tos=0x0 len=1017 id=71 flags= frag=0 ttl=1 proto=udp chksum=0x411 src=192.168.0.250 dst=239.255.255.250 |<UDP  sport=49152 dport=3702 len=997 chksum=0xc3ad |<Raw  load='<?xml version=\"1.0\" encoding=\"utf-8\"?><soap:Envelope xmlns:soap=\"http://www.w3.org/2003/05/soap-envelope\" xmlns:wsa=\"http://schemas.xmlsoap.org/ws/2004/08/addressing\" xmlns:wsd=\"http://schemas.xmlsoap.org/ws/2005/04/discovery\" xmlns:wsdp=\"http://schemas.xmlsoap.org/ws/2006/02/devprof\" xmlns:pub=\"http://schemas.microsoft.com/windows/pub/2005/07\"><soap:Header><wsa:To>urn:schemas-xmlsoap-org:ws:2005:04:discovery</wsa:To><wsa:Action>http://schemas.xmlsoap.org/ws/2005/04/discovery/Hello</wsa:Action><wsa:MessageID>urn:uuid:fbbc82fb-9bdb-4631-a88a-32f048603c70</wsa:MessageID><wsd:AppSequence InstanceId=\"7\" SequenceId=\"urn:uuid:b0d0b29f-9826-4ddd-9498-c6d8f5907959\" MessageNumber=\"10\"></wsd:AppSequence></soap:Header><soap:Body><wsd:Hello><wsa:EndpointReference><wsa:Address>urn:uuid:acc7fe12-3135-466d-a131-c5ba9b41ee06</wsa:Address></wsa:EndpointReference><wsd:Types>wsdp:Device pub:Computer</wsd:Types><wsd:MetadataVersion>4</wsd:MetadataVersion></wsd:Hello></soap:Body></soap:Envelope>' |>>>>]),\n (('192.168.0.250', '8.8.8.8', 58576, 53, 17),\n  [<Ether  dst=00:25:f1:72:a5:3d src=08:00:27:3c:8d:c9 type=IPv4 |<IP  version=4 ihl=5 tos=0x0 len=62 id=69 flags= frag=0 ttl=128 proto=udp chksum=0x68b8 src=192.168.0.250 dst=8.8.8.8 |<UDP  sport=58576 dport=domain len=42 chksum=0x5cae |<DNS  id=60464 qr=0 opcode=QUERY aa=0 tc=0 rd=1 ra=0 z=0 ad=0 cd=0 rcode=ok qdcount=1 ancount=0 nscount=0 arcount=0 qd=<DNSQR  qname='dns.msftncsi.com.' qtype=A qclass=IN |> an=None ns=None ar=None |>>>>,\n   <Ether  dst=00:25:f1:72:a5:3d src=78:e4:00:6c:39:cd type=IPv4 |<IP  version=4 ihl=5 tos=0x0 len=62 id=69 flags= frag=0 ttl=128 proto=udp chksum=0x68b8 src=192.168.0.250 dst=8.8.8.8 |<UDP  sport=58576 dport=domain len=42 chksum=0x5cae |<DNS  id=60464 qr=0 opcode=QUERY aa=0 tc=0 rd=1 ra=0 z=0 ad=0 cd=0 rcode=ok qdcount=1 ancount=0 nscount=0 arcount=0 qd=<DNSQR  qname='dns.msftncsi.com.' qtype=A qclass=IN |> an=None ns=None ar=None |>>>>]),\n (('192.168.0.250', '8.8.8.8', 63613, 53, 17),\n  [<Ether  dst=00:25:f1:72:a5:3d src=08:00:27:3c:8d:c9 type=IPv4 |<IP  version=4 ihl=5 tos=0x0 len=62 id=70 flags= frag=0 ttl=128 proto=udp chksum=0x68b7 src=192.168.0.250 dst=8.8.8.8 |<UDP  sport=63613 dport=domain len=42 chksum=0xca50 |<DNS  id=27334 qr=0 opcode=QUERY aa=0 tc=0 rd=1 ra=0 z=0 ad=0 cd=0 rcode=ok qdcount=1 ancount=0 nscount=0 arcount=0 qd=<DNSQR  qname='dns.msftncsi.com.' qtype=AAAA qclass=IN |> an=None ns=None ar=None |>>>>,\n   <Ether  dst=00:25:f1:72:a5:3d src=78:e4:00:6c:39:cd type=IPv4 |<IP  version=4 ihl=5 tos=0x0 len=62 id=70 flags= frag=0 ttl=128 proto=udp chksum=0x68b7 src=192.168.0.250 dst=8.8.8.8 |<UDP  sport=63613 dport=domain len=42 chksum=0xca50 |<DNS  id=27334 qr=0 opcode=QUERY aa=0 tc=0 rd=1 ra=0 z=0 ad=0 cd=0 rcode=ok qdcount=1 ancount=0 nscount=0 arcount=0 qd=<DNSQR  qname='dns.msftncsi.com.' qtype=AAAA qclass=IN |> an=None ns=None ar=None |>>>>]),\n (('192.168.0.250', '239.255.255.250', 51630, 1900, 17),\n  [<Ether  dst=01:00:5e:7f:ff:fa src=08:00:27:3c:8d:c9 type=IPv4 |<IP  version=4 ihl=5 tos=0x0 len=161 id=72 flags= frag=0 ttl=1 proto=udp chksum=0x768 src=192.168.0.250 dst=239.255.255.250 |<UDP  sport=51630 dport=1900 len=141 chksum=0xd632 |<Raw  load='M-SEARCH * HTTP/1.1\\r\\nHost:239.255.255.250:1900\\r\\nST:urn:schemas-upnp-org:device:InternetGatewayDevice:1\\r\\nMan:\"ssdp:discover\"\\r\\nMX:3\\r\\n\\r\\n' |>>>>,\n   <Ether  dst=01:00:5e:7f:ff:fa src=78:e4:00:6c:39:cd type=IPv4 |<IP  version=4 ihl=5 tos=0x0 len=161 id=72 flags= frag=0 ttl=1 proto=udp chksum=0x768 src=192.168.0.250 dst=239.255.255.250 |<UDP  sport=51630 dport=1900 len=141 chksum=0xd632 |<Raw  load='M-SEARCH * HTTP/1.1\\r\\nHost:239.255.255.250:1900\\r\\nST:urn:schemas-upnp-org:device:InternetGatewayDevice:1\\r\\nMan:\"ssdp:discover\"\\r\\nMX:3\\r\\n\\r\\n' |>>>>]),\n (('192.168.0.250', '239.255.255.250', 51630, 1900, 17),\n  [<Ether  dst=01:00:5e:7f:ff:fa src=08:00:27:3c:8d:c9 type=IPv4 |<IP  version=4 ihl=5 tos=0x0 len=161 id=75 flags= frag=0 ttl=1 proto=udp chksum=0x765 src=192.168.0.250 dst=239.255.255.250 |<UDP  sport=51630 dport=1900 len=141 chksum=0xd632 |<Raw  load='M-SEARCH * HTTP/1.1\\r\\nHost:239.255.255.250:1900\\r\\nST:urn:schemas-upnp-org:device:InternetGatewayDevice:1\\r\\nMan:\"ssdp:discover\"\\r\\nMX:3\\r\\n\\r\\n' |>>>>,\n   <Ether  dst=01:00:5e:7f:ff:fa src=78:e4:00:6c:39:cd type=IPv4 |<IP  version=4 ihl=5 tos=0x0 len=161 id=75 flags= frag=0 ttl=1 proto=udp chksum=0x765 src=192.168.0.250 dst=239.255.255.250 |<UDP  sport=51630 dport=1900 len=141 chksum=0xd632 |<Raw  load='M-SEARCH * HTTP/1.1\\r\\nHost:239.255.255.250:1900\\r\\nST:urn:schemas-upnp-org:device:InternetGatewayDevice:1\\r\\nMan:\"ssdp:discover\"\\r\\nMX:3\\r\\n\\r\\n' |>>>>,\n   <Ether  dst=01:00:5e:7f:ff:fa src=08:00:27:3c:8d:c9 type=IPv4 |<IP  version=4 ihl=5 tos=0x0 len=161 id=76 flags= frag=0 ttl=1 proto=udp chksum=0x764 src=192.168.0.250 dst=239.255.255.250 |<UDP  sport=51630 dport=1900 len=141 chksum=0xd632 |<Raw  load='M-SEARCH * HTTP/1.1\\r\\nHost:239.255.255.250:1900\\r\\nST:urn:schemas-upnp-org:device:InternetGatewayDevice:1\\r\\nMan:\"ssdp:discover\"\\r\\nMX:3\\r\\n\\r\\n' |>>>>,\n   <Ether  dst=01:00:5e:7f:ff:fa src=78:e4:00:6c:39:cd type=IPv4 |<IP  version=4 ihl=5 tos=0x0 len=161 id=76 flags= frag=0 ttl=1 proto=udp chksum=0x764 src=192.168.0.250 dst=239.255.255.250 |<UDP  sport=51630 dport=1900 len=141 chksum=0xd632 |<Raw  load='M-SEARCH * HTTP/1.1\\r\\nHost:239.255.255.250:1900\\r\\nST:urn:schemas-upnp-org:device:InternetGatewayDevice:1\\r\\nMan:\"ssdp:discover\"\\r\\nMX:3\\r\\n\\r\\n' |>>>>,\n   <Ether  dst=01:00:5e:7f:ff:fa src=08:00:27:3c:8d:c9 type=IPv4 |<IP  version=4 ihl=5 tos=0x0 len=161 id=77 flags= frag=0 ttl=1 proto=udp chksum=0x763 src=192.168.0.250 dst=239.255.255.250 |<UDP  sport=51630 dport=1900 len=141 chksum=0xd632 |<Raw  load='M-SEARCH * HTTP/1.1\\r\\nHost:239.255.255.250:1900\\r\\nST:urn:schemas-upnp-org:device:InternetGatewayDevice:1\\r\\nMan:\"ssdp:discover\"\\r\\nMX:3\\r\\n\\r\\n' |>>>>,\n   <Ether  dst=01:00:5e:7f:ff:fa src=78:e4:00:6c:39:cd type=IPv4 |<IP  version=4 ihl=5 tos=0x0 len=161 id=77 flags= frag=0 ttl=1 proto=udp chksum=0x763 src=192.168.0.250 dst=239.255.255.250 |<UDP  sport=51630 dport=1900 len=141 chksum=0xd632 |<Raw  load='M-SEARCH * HTTP/1.1\\r\\nHost:239.255.255.250:1900\\r\\nST:urn:schemas-upnp-org:device:InternetGatewayDevice:1\\r\\nMan:\"ssdp:discover\"\\r\\nMX:3\\r\\n\\r\\n' |>>>>])]\narray([0, 0, 0, 0, 0])\n"
     ]
    }
   ],
   "source": [
    "parsedPcap.label_flows(label_file=None,label=0)\n",
    "pprint.pprint(parsedPcap.flows[:5])\n",
    "pprint.pprint(parsedPcap.labels[:5])\n",
    "\n",
    "\n",
    "\n"
   ]
  },
  {
   "cell_type": "code",
   "execution_count": 63,
   "metadata": {},
   "outputs": [
    {
     "output_type": "stream",
     "name": "stdout",
     "text": [
      "'_flow2features()' starts at 2021-04-18 17:02:38\n",
      "True\n",
      "'_flow2features()' ends at 2021-04-18 17:02:44 and takes 0.1052 mins.\n"
     ]
    }
   ],
   "source": [
    "parsedPcap.flow2features(\"IAT\", fft=False, header=True)\n"
   ]
  },
  {
   "cell_type": "code",
   "execution_count": 64,
   "metadata": {},
   "outputs": [],
   "source": [
    "\n",
    "# dump data to disk\n",
    "X, y = parsedPcap.features, parsedPcap.labels\n",
    "outFilePath = destination+\"/test.dat\"\n",
    "dump_data((X,y), out_file=outFilePath)"
   ]
  },
  {
   "cell_type": "code",
   "execution_count": 65,
   "metadata": {},
   "outputs": [
    {
     "output_type": "stream",
     "name": "stdout",
     "text": [
      "[[0.00000000e+00 0.00000000e+00 0.00000000e+00 ... 1.00000000e+00\n  6.29425049e-05 1.05984926e-01]\n [0.00000000e+00 0.00000000e+00 0.00000000e+00 ... 1.28000000e+02\n  2.69412994e-05 0.00000000e+00]\n [0.00000000e+00 0.00000000e+00 0.00000000e+00 ... 1.28000000e+02\n  3.00407410e-05 0.00000000e+00]\n ...\n [0.00000000e+00 0.00000000e+00 0.00000000e+00 ... 1.28000000e+02\n  1.90734863e-05 0.00000000e+00]\n [0.00000000e+00 6.00000000e+00 0.00000000e+00 ... 1.28000000e+02\n  2.09808350e-05 6.75967932e-01]\n [0.00000000e+00 0.00000000e+00 3.00000000e+00 ... 4.20000000e+01\n  6.76491022e-01 6.79682016e-01]]\n"
     ]
    }
   ],
   "source": [
    "print(parsedPcap.features)"
   ]
  },
  {
   "cell_type": "code",
   "execution_count": 66,
   "metadata": {},
   "outputs": [
    {
     "output_type": "stream",
     "name": "stdout",
     "text": [
      "19254\n"
     ]
    }
   ],
   "source": [
    "print(len(parsedPcap.labels))\n"
   ]
  }
 ],
 "metadata": {
  "kernelspec": {
   "display_name": "Python 3",
   "language": "python",
   "name": "python3"
  }
 },
 "nbformat": 4,
 "nbformat_minor": 5
}