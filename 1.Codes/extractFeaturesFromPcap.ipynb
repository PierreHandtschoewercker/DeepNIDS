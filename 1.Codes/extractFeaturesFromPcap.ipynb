{
 "cells": [
  {
   "cell_type": "code",
   "execution_count": 1,
   "id": "108d6513",
   "metadata": {},
   "outputs": [],
   "source": [
    "import os\n",
    "import pandas\n",
    "from netml.pparser.parser import PCAP\n",
    "from netml.utils.tool import dump_data\n",
    "import pprint\n",
    "from scapy.all import *\n",
    "from scapy.layers.inet import *\n",
    "from tqdm import tqdm"
   ]
  },
  {
   "cell_type": "code",
   "execution_count": 2,
   "id": "93bbd066",
   "metadata": {},
   "outputs": [],
   "source": [
    "dataDir = \"/code/2.Malwares/\"\n",
    "targetFile = \"Zeus.pcap\"\n",
    "destination = dataDir + \"out\"\n",
    "tsharkPath=\"/usr/bin/tshark\"\n",
    "packetSizeInBytes = 100\n",
    "packetsPerFlow = 2"
   ]
  },
  {
   "cell_type": "code",
   "execution_count": 3,
   "id": "d34c9f99",
   "metadata": {},
   "outputs": [],
   "source": [
    "cats = [\"Benign\",\"Malware\"]\n",
    "listofProcessedFiles = []\n",
    "training_data = []"
   ]
  },
  {
   "cell_type": "code",
   "execution_count": 4,
   "id": "ddd24525",
   "metadata": {},
   "outputs": [],
   "source": [
    "def getLabelForFile(filename):\n",
    "    filename.replace('.pcap','')\n",
    "    if filename.find('-') != -1:\n",
    "        filename = filename.split('-')[0]\n",
    "    for index,processedFile in enumerate(listofProcessedFiles):\n",
    "        if processedFile == filename:\n",
    "            return index\n",
    "    listofProcessedFiles.append(filename)\n",
    "    return len(listofProcessedFiles)\n",
    "    \n",
    "#pprint.pprint(listofProcessedFiles)\n",
    "#label = getLabelForFile('tes-test')\n",
    "#print(label)"
   ]
  },
  {
   "cell_type": "code",
   "execution_count": 5,
   "id": "dda772df",
   "metadata": {
    "tags": []
   },
   "outputs": [
    {
     "name": "stdout",
     "output_type": "stream",
     "text": [
      "'/code/2.Malwares/Benign'\n",
      "'Outlook.pcap'\n",
      "'_pcap2flows()' starts at 2021-04-22 12:28:39\n",
      "pcap_file: /code/2.Malwares/Benign/Outlook.pcap\n",
      "ith_packets: 0\n",
      "ith_packets: 10000\n"
     ]
    },
    {
     "name": "stderr",
     "output_type": "stream",
     "text": [
      "100%|██████████| 15/15 [00:00<00:00, 4017.02it/s]"
     ]
    },
    {
     "name": "stdout",
     "output_type": "stream",
     "text": [
      "len(flows): 14984\n",
      "total number of flows: 14984. Num of flows < 2 pkts: 14969, and >=2 pkts: 15 without timeout splitting.\n",
      "kept flows: 15. Each of them has at least 2 pkts after timeout splitting.\n",
      "0th_flow: len(pkts): 2\n",
      "After splitting flows, the number of subflows: 15 and each of them has at least 2 packets.\n",
      "'_pcap2flows()' ends at 2021-04-22 12:28:49 and takes 0.1735 mins.\n",
      "'/code/2.Malwares/Benign'\n",
      "'Weibo-3.pcap'\n",
      "'_pcap2flows()' starts at 2021-04-22 12:28:50\n",
      "pcap_file: /code/2.Malwares/Benign/Weibo-3.pcap\n",
      "ith_packets: 0\n"
     ]
    },
    {
     "name": "stderr",
     "output_type": "stream",
     "text": [
      "\n"
     ]
    },
    {
     "name": "stdout",
     "output_type": "stream",
     "text": [
      "ith_packets: 10000\n",
      "ith_packets: 20000\n",
      "ith_packets: 30000\n",
      "ith_packets: 40000\n",
      "ith_packets: 50000\n",
      "ith_packets: 60000\n",
      "ith_packets: 70000\n",
      "ith_packets: 80000\n",
      "ith_packets: 90000\n",
      "ith_packets: 100000\n",
      "ith_packets: 110000\n",
      "ith_packets: 120000\n",
      "ith_packets: 130000\n",
      "ith_packets: 140000\n",
      "ith_packets: 150000\n",
      "len(flows): 10034\n",
      "total number of flows: 10034. Num of flows < 2 pkts: 2133, and >=2 pkts: 7901 without timeout splitting.\n",
      "kept flows: 7901. Each of them has at least 2 pkts after timeout splitting.\n",
      "0th_flow: len(pkts): 32\n",
      "1000th_flow: len(pkts): 2\n",
      "2000th_flow: len(pkts): 2\n",
      "3000th_flow: len(pkts): 2\n",
      "4000th_flow: len(pkts): 32\n",
      "5000th_flow: len(pkts): 2\n",
      "6000th_flow: len(pkts): 32\n",
      "7000th_flow: len(pkts): 32\n"
     ]
    },
    {
     "name": "stderr",
     "output_type": "stream",
     "text": [
      "  1%|          | 49/7901 [00:00<00:16, 475.12it/s]"
     ]
    },
    {
     "name": "stdout",
     "output_type": "stream",
     "text": [
      "After splitting flows, the number of subflows: 7901 and each of them has at least 2 packets.\n",
      "'_pcap2flows()' ends at 2021-04-22 12:30:44 and takes 1.9035 mins.\n"
     ]
    },
    {
     "name": "stderr",
     "output_type": "stream",
     "text": [
      "100%|██████████| 7901/7901 [00:17<00:00, 440.00it/s]\n"
     ]
    },
    {
     "name": "stdout",
     "output_type": "stream",
     "text": [
      "'/code/2.Malwares/Benign'\n",
      "'SMB-2.pcap'\n",
      "'_pcap2flows()' starts at 2021-04-22 12:31:02\n",
      "pcap_file: /code/2.Malwares/Benign/SMB-2.pcap\n",
      "ith_packets: 0\n",
      "ith_packets: 10000\n",
      "ith_packets: 20000\n",
      "ith_packets: 30000\n",
      "ith_packets: 40000\n",
      "ith_packets: 50000\n",
      "ith_packets: 60000\n",
      "ith_packets: 70000\n",
      "ith_packets: 80000\n",
      "ith_packets: 90000\n",
      "ith_packets: 100000\n",
      "ith_packets: 110000\n",
      "ith_packets: 120000\n",
      "ith_packets: 130000\n",
      "ith_packets: 140000\n",
      "ith_packets: 150000\n",
      "len(flows): 12539\n",
      "total number of flows: 12539. Num of flows < 2 pkts: 4216, and >=2 pkts: 8323 without timeout splitting.\n",
      "kept flows: 8323. Each of them has at least 2 pkts after timeout splitting.\n",
      "0th_flow: len(pkts): 7\n",
      "1000th_flow: len(pkts): 2\n",
      "2000th_flow: len(pkts): 12\n",
      "3000th_flow: len(pkts): 32\n",
      "4000th_flow: len(pkts): 32\n",
      "5000th_flow: len(pkts): 32\n",
      "6000th_flow: len(pkts): 32\n"
     ]
    },
    {
     "name": "stderr",
     "output_type": "stream",
     "text": [
      "\r",
      "  0%|          | 0/8323 [00:00<?, ?it/s]"
     ]
    },
    {
     "name": "stdout",
     "output_type": "stream",
     "text": [
      "7000th_flow: len(pkts): 32\n",
      "8000th_flow: len(pkts): 30\n",
      "After splitting flows, the number of subflows: 8323 and each of them has at least 2 packets.\n",
      "'_pcap2flows()' ends at 2021-04-22 12:32:57 and takes 1.9268 mins.\n"
     ]
    },
    {
     "name": "stderr",
     "output_type": "stream",
     "text": [
      "100%|██████████| 8323/8323 [00:18<00:00, 442.93it/s]\n"
     ]
    },
    {
     "name": "stdout",
     "output_type": "stream",
     "text": [
      "'/code/2.Malwares/Benign'\n",
      "'BitTorrent.pcap'\n",
      "'_pcap2flows()' starts at 2021-04-22 12:33:16\n",
      "pcap_file: /code/2.Malwares/Benign/BitTorrent.pcap\n",
      "ith_packets: 0\n",
      "ith_packets: 10000\n"
     ]
    },
    {
     "name": "stderr",
     "output_type": "stream",
     "text": [
      "0it [00:00, ?it/s]"
     ]
    },
    {
     "name": "stdout",
     "output_type": "stream",
     "text": [
      "len(flows): 15000\n",
      "total number of flows: 15000. Num of flows < 2 pkts: 15000, and >=2 pkts: 0 without timeout splitting.\n",
      "kept flows: 0. Each of them has at least 2 pkts after timeout splitting.\n",
      "After splitting flows, the number of subflows: 0 and each of them has at least 2 packets.\n",
      "'_pcap2flows()' ends at 2021-04-22 12:33:29 and takes 0.21 mins.\n",
      "'/code/2.Malwares/Benign'\n",
      "'Weibo-2.pcap'\n",
      "'_pcap2flows()' starts at 2021-04-22 12:33:29\n",
      "pcap_file: /code/2.Malwares/Benign/Weibo-2.pcap\n",
      "ith_packets: 0\n"
     ]
    },
    {
     "name": "stderr",
     "output_type": "stream",
     "text": [
      "\n"
     ]
    },
    {
     "name": "stdout",
     "output_type": "stream",
     "text": [
      "ith_packets: 10000\n",
      "ith_packets: 20000\n",
      "ith_packets: 30000\n",
      "ith_packets: 40000\n",
      "ith_packets: 50000\n",
      "ith_packets: 60000\n",
      "ith_packets: 70000\n",
      "ith_packets: 80000\n",
      "ith_packets: 90000\n",
      "ith_packets: 100000\n",
      "ith_packets: 110000\n",
      "ith_packets: 120000\n",
      "ith_packets: 130000\n",
      "ith_packets: 140000\n",
      "ith_packets: 150000\n",
      "len(flows): 10067\n",
      "total number of flows: 10067. Num of flows < 2 pkts: 2148, and >=2 pkts: 7919 without timeout splitting.\n",
      "kept flows: 7919. Each of them has at least 2 pkts after timeout splitting.\n",
      "0th_flow: len(pkts): 2\n",
      "1000th_flow: len(pkts): 32\n",
      "2000th_flow: len(pkts): 32\n",
      "3000th_flow: len(pkts): 2\n",
      "4000th_flow: len(pkts): 2\n",
      "5000th_flow: len(pkts): 32\n",
      "6000th_flow: len(pkts): 32\n",
      "7000th_flow: len(pkts): 2\n"
     ]
    },
    {
     "name": "stderr",
     "output_type": "stream",
     "text": [
      "  0%|          | 32/7919 [00:00<00:24, 317.93it/s]"
     ]
    },
    {
     "name": "stdout",
     "output_type": "stream",
     "text": [
      "After splitting flows, the number of subflows: 7919 and each of them has at least 2 packets.\n",
      "'_pcap2flows()' ends at 2021-04-22 12:35:20 and takes 1.8619 mins.\n"
     ]
    },
    {
     "name": "stderr",
     "output_type": "stream",
     "text": [
      "100%|██████████| 7919/7919 [00:18<00:00, 436.18it/s]\n"
     ]
    },
    {
     "name": "stdout",
     "output_type": "stream",
     "text": [
      "'/code/2.Malwares/Benign'\n",
      "'Gmail.pcap'\n",
      "'_pcap2flows()' starts at 2021-04-22 12:35:39\n",
      "pcap_file: /code/2.Malwares/Benign/Gmail.pcap\n",
      "ith_packets: 0\n",
      "ith_packets: 10000\n",
      "ith_packets: 20000\n",
      "len(flows): 17178\n",
      "total number of flows: 17178. Num of flows < 2 pkts: 11538, and >=2 pkts: 5640 without timeout splitting.\n",
      "kept flows: 5640. Each of them has at least 2 pkts after timeout splitting.\n",
      "0th_flow: len(pkts): 4\n",
      "1000th_flow: len(pkts): 2\n",
      "2000th_flow: len(pkts): 2\n",
      "3000th_flow: len(pkts): 2\n",
      "4000th_flow: len(pkts): 3\n",
      "5000th_flow: len(pkts): 2\n",
      "After splitting flows, the number of subflows: 5640 and each of them has at least 2 packets.\n",
      "'_pcap2flows()' ends at 2021-04-22 12:35:55 and takes 0.269 mins."
     ]
    },
    {
     "name": "stderr",
     "output_type": "stream",
     "text": [
      "  4%|▎         | 206/5640 [00:00<00:02, 2058.68it/s]"
     ]
    },
    {
     "name": "stdout",
     "output_type": "stream",
     "text": [
      "\n"
     ]
    },
    {
     "name": "stderr",
     "output_type": "stream",
     "text": [
      "100%|██████████| 5640/5640 [00:03<00:00, 1750.16it/s]\n"
     ]
    },
    {
     "name": "stdout",
     "output_type": "stream",
     "text": [
      "'/code/2.Malwares/Benign'\n",
      "'Weibo-1.pcap'\n",
      "'_pcap2flows()' starts at 2021-04-22 12:35:58\n",
      "pcap_file: /code/2.Malwares/Benign/Weibo-1.pcap\n",
      "ith_packets: 0\n",
      "ith_packets: 10000\n",
      "ith_packets: 20000\n",
      "ith_packets: 30000\n",
      "ith_packets: 40000\n",
      "ith_packets: 50000\n",
      "ith_packets: 60000\n",
      "ith_packets: 70000\n",
      "ith_packets: 80000\n",
      "ith_packets: 90000\n",
      "ith_packets: 100000\n",
      "ith_packets: 110000\n",
      "ith_packets: 120000\n",
      "ith_packets: 130000\n",
      "ith_packets: 140000\n",
      "ith_packets: 150000\n",
      "ith_packets: 160000\n",
      "ith_packets: 170000\n",
      "ith_packets: 180000\n",
      "ith_packets: 190000\n",
      "ith_packets: 200000\n",
      "ith_packets: 210000\n",
      "ith_packets: 220000\n",
      "ith_packets: 230000\n",
      "ith_packets: 240000\n",
      "ith_packets: 250000\n",
      "ith_packets: 260000\n",
      "ith_packets: 270000\n",
      "ith_packets: 280000\n",
      "ith_packets: 290000\n",
      "ith_packets: 300000\n",
      "ith_packets: 310000\n",
      "ith_packets: 320000\n",
      "ith_packets: 330000\n",
      "ith_packets: 340000\n",
      "ith_packets: 350000\n",
      "ith_packets: 360000\n",
      "ith_packets: 370000\n",
      "ith_packets: 380000\n",
      "ith_packets: 390000\n",
      "ith_packets: 400000\n",
      "ith_packets: 410000\n",
      "ith_packets: 420000\n",
      "ith_packets: 430000\n",
      "ith_packets: 440000\n",
      "ith_packets: 450000\n",
      "ith_packets: 460000\n",
      "ith_packets: 470000\n",
      "ith_packets: 480000\n",
      "ith_packets: 490000\n",
      "ith_packets: 500000\n",
      "ith_packets: 510000\n",
      "ith_packets: 520000\n",
      "ith_packets: 530000\n",
      "ith_packets: 540000\n",
      "ith_packets: 550000\n",
      "ith_packets: 560000\n",
      "ith_packets: 570000\n",
      "ith_packets: 580000\n",
      "ith_packets: 590000\n",
      "ith_packets: 600000\n",
      "ith_packets: 610000\n",
      "ith_packets: 620000\n",
      "ith_packets: 630000\n",
      "ith_packets: 640000\n",
      "ith_packets: 650000\n",
      "ith_packets: 660000\n",
      "ith_packets: 670000\n",
      "ith_packets: 680000\n",
      "ith_packets: 690000\n",
      "ith_packets: 700000\n",
      "ith_packets: 710000\n",
      "ith_packets: 720000\n",
      "ith_packets: 730000\n",
      "ith_packets: 740000\n",
      "ith_packets: 750000\n",
      "len(flows): 49861\n",
      "total number of flows: 49861. Num of flows < 2 pkts: 10480, and >=2 pkts: 39381 without timeout splitting.\n",
      "kept flows: 39381. Each of them has at least 2 pkts after timeout splitting.\n",
      "0th_flow: len(pkts): 31\n",
      "1000th_flow: len(pkts): 32\n",
      "2000th_flow: len(pkts): 2\n",
      "3000th_flow: len(pkts): 2\n",
      "4000th_flow: len(pkts): 32\n",
      "5000th_flow: len(pkts): 2\n",
      "6000th_flow: len(pkts): 32\n",
      "7000th_flow: len(pkts): 28\n",
      "8000th_flow: len(pkts): 32\n",
      "9000th_flow: len(pkts): 2\n",
      "10000th_flow: len(pkts): 32\n",
      "11000th_flow: len(pkts): 32\n",
      "12000th_flow: len(pkts): 2\n",
      "13000th_flow: len(pkts): 2\n",
      "14000th_flow: len(pkts): 2\n",
      "15000th_flow: len(pkts): 32\n",
      "16000th_flow: len(pkts): 32\n",
      "17000th_flow: len(pkts): 8\n",
      "18000th_flow: len(pkts): 32\n",
      "19000th_flow: len(pkts): 2\n",
      "20000th_flow: len(pkts): 32\n",
      "21000th_flow: len(pkts): 32\n",
      "22000th_flow: len(pkts): 32\n",
      "23000th_flow: len(pkts): 24\n",
      "24000th_flow: len(pkts): 2\n",
      "25000th_flow: len(pkts): 2\n",
      "26000th_flow: len(pkts): 32\n",
      "27000th_flow: len(pkts): 32\n",
      "28000th_flow: len(pkts): 2\n",
      "29000th_flow: len(pkts): 32\n",
      "30000th_flow: len(pkts): 32\n",
      "31000th_flow: len(pkts): 2\n",
      "32000th_flow: len(pkts): 24\n",
      "33000th_flow: len(pkts): 24\n",
      "34000th_flow: len(pkts): 32\n",
      "35000th_flow: len(pkts): 6\n",
      "36000th_flow: len(pkts): 32\n",
      "37000th_flow: len(pkts): 14\n",
      "38000th_flow: len(pkts): 32\n",
      "39000th_flow: len(pkts): 32\n"
     ]
    },
    {
     "name": "stderr",
     "output_type": "stream",
     "text": [
      "  0%|          | 19/39381 [00:00<03:34, 183.34it/s]"
     ]
    },
    {
     "name": "stdout",
     "output_type": "stream",
     "text": [
      "After splitting flows, the number of subflows: 39381 and each of them has at least 2 packets.\n",
      "'_pcap2flows()' ends at 2021-04-22 12:45:25 and takes 9.4485 mins.\n"
     ]
    },
    {
     "name": "stderr",
     "output_type": "stream",
     "text": [
      "100%|██████████| 39381/39381 [01:30<00:00, 433.70it/s]\n"
     ]
    },
    {
     "name": "stdout",
     "output_type": "stream",
     "text": [
      "'/code/2.Malwares/Benign'\n",
      "'SMB-1.pcap'\n",
      "'_pcap2flows()' starts at 2021-04-22 12:46:56\n",
      "pcap_file: /code/2.Malwares/Benign/SMB-1.pcap\n",
      "ith_packets: 0\n",
      "ith_packets: 10000\n",
      "ith_packets: 20000\n",
      "ith_packets: 30000\n",
      "ith_packets: 40000\n",
      "ith_packets: 50000\n",
      "ith_packets: 60000\n",
      "ith_packets: 70000\n",
      "ith_packets: 80000\n"
     ]
    },
    {
     "ename": "KeyboardInterrupt",
     "evalue": "",
     "output_type": "error",
     "traceback": [
      "\u001b[0;31m---------------------------------------------------------------------------\u001b[0m",
      "\u001b[0;31mKeyboardInterrupt\u001b[0m                         Traceback (most recent call last)",
      "\u001b[0;32m<ipython-input-5-c872b913871a>\u001b[0m in \u001b[0;36m<module>\u001b[0;34m\u001b[0m\n\u001b[1;32m      9\u001b[0m         \u001b[0mflow_ptks_thres\u001b[0m\u001b[0;34m=\u001b[0m\u001b[0mpacketsPerFlow\u001b[0m\u001b[0;34m,\u001b[0m\u001b[0;34m\u001b[0m\u001b[0;34m\u001b[0m\u001b[0m\n\u001b[1;32m     10\u001b[0m         )\n\u001b[0;32m---> 11\u001b[0;31m         \u001b[0mparsedPcap\u001b[0m\u001b[0;34m.\u001b[0m\u001b[0mpcap2flows\u001b[0m\u001b[0;34m(\u001b[0m\u001b[0minterval\u001b[0m\u001b[0;34m=\u001b[0m\u001b[0;36m1000\u001b[0m\u001b[0;34m)\u001b[0m\u001b[0;34m\u001b[0m\u001b[0;34m\u001b[0m\u001b[0m\n\u001b[0m\u001b[1;32m     12\u001b[0m         \u001b[0;32mfor\u001b[0m \u001b[0mflow\u001b[0m \u001b[0;32min\u001b[0m \u001b[0mtqdm\u001b[0m\u001b[0;34m(\u001b[0m\u001b[0mparsedPcap\u001b[0m\u001b[0;34m.\u001b[0m\u001b[0mflows\u001b[0m\u001b[0;34m)\u001b[0m\u001b[0;34m:\u001b[0m \u001b[0;31m#(val,182.168.1.15,,)(<Ether\u001b[0m\u001b[0;34m\u001b[0m\u001b[0;34m\u001b[0m\u001b[0m\n\u001b[1;32m     13\u001b[0m             \u001b[0mflow\u001b[0m \u001b[0;34m=\u001b[0m \u001b[0mflow\u001b[0m\u001b[0;34m[\u001b[0m\u001b[0;36m1\u001b[0m\u001b[0;34m:\u001b[0m\u001b[0;34m]\u001b[0m \u001b[0;31m# retirer le premier élément car inutile\u001b[0m\u001b[0;34m\u001b[0m\u001b[0;34m\u001b[0m\u001b[0m\n",
      "\u001b[0;32m/usr/local/lib/python3.7/dist-packages/netml/pparser/parser.py\u001b[0m in \u001b[0;36mpcap2flows\u001b[0;34m(self, interval, q_interval, tcp_timeout, udp_timeout)\u001b[0m\n\u001b[1;32m    748\u001b[0m             \u001b[0mself\u001b[0m\u001b[0;34m\u001b[0m\u001b[0;34m\u001b[0m\u001b[0m\n\u001b[1;32m    749\u001b[0m         \"\"\"\n\u001b[0;32m--> 750\u001b[0;31m         \u001b[0m_\u001b[0m\u001b[0;34m,\u001b[0m \u001b[0mtot_time\u001b[0m \u001b[0;34m=\u001b[0m \u001b[0mself\u001b[0m\u001b[0;34m.\u001b[0m\u001b[0m_pcap2flows\u001b[0m\u001b[0;34m(\u001b[0m\u001b[0minterval\u001b[0m\u001b[0;34m,\u001b[0m \u001b[0mq_interval\u001b[0m\u001b[0;34m,\u001b[0m \u001b[0mtcp_timeout\u001b[0m\u001b[0;34m=\u001b[0m\u001b[0mtcp_timeout\u001b[0m\u001b[0;34m,\u001b[0m \u001b[0mudp_timeout\u001b[0m\u001b[0;34m=\u001b[0m\u001b[0mudp_timeout\u001b[0m\u001b[0;34m)\u001b[0m\u001b[0;34m\u001b[0m\u001b[0;34m\u001b[0m\u001b[0m\n\u001b[0m\u001b[1;32m    751\u001b[0m         \u001b[0mself\u001b[0m\u001b[0;34m.\u001b[0m\u001b[0mpcap2flows\u001b[0m\u001b[0;34m.\u001b[0m\u001b[0m__dict__\u001b[0m\u001b[0;34m[\u001b[0m\u001b[0;34m'tot_time'\u001b[0m\u001b[0;34m]\u001b[0m \u001b[0;34m=\u001b[0m \u001b[0mtot_time\u001b[0m\u001b[0;34m\u001b[0m\u001b[0;34m\u001b[0m\u001b[0m\n\u001b[1;32m    752\u001b[0m \u001b[0;34m\u001b[0m\u001b[0m\n",
      "\u001b[0;32m/usr/local/lib/python3.7/dist-packages/netml/utils/tool.py\u001b[0m in \u001b[0;36mwrapper\u001b[0;34m(*args, **kwargs)\u001b[0m\n\u001b[1;32m    145\u001b[0m         \u001b[0mst\u001b[0m \u001b[0;34m=\u001b[0m \u001b[0mdatetime\u001b[0m\u001b[0;34m.\u001b[0m\u001b[0mfromtimestamp\u001b[0m\u001b[0;34m(\u001b[0m\u001b[0mstart\u001b[0m\u001b[0;34m)\u001b[0m\u001b[0;34m.\u001b[0m\u001b[0mstrftime\u001b[0m\u001b[0;34m(\u001b[0m\u001b[0;34m'%Y-%m-%d %H:%M:%S'\u001b[0m\u001b[0;34m)\u001b[0m\u001b[0;34m\u001b[0m\u001b[0;34m\u001b[0m\u001b[0m\n\u001b[1;32m    146\u001b[0m         \u001b[0mprint\u001b[0m\u001b[0;34m(\u001b[0m\u001b[0;34mf'\\'{func.__name__}()\\' starts at {st}'\u001b[0m\u001b[0;34m)\u001b[0m\u001b[0;34m\u001b[0m\u001b[0;34m\u001b[0m\u001b[0m\n\u001b[0;32m--> 147\u001b[0;31m         \u001b[0mresult\u001b[0m \u001b[0;34m=\u001b[0m \u001b[0mfunc\u001b[0m\u001b[0;34m(\u001b[0m\u001b[0;34m*\u001b[0m\u001b[0margs\u001b[0m\u001b[0;34m,\u001b[0m \u001b[0;34m**\u001b[0m\u001b[0mkwargs\u001b[0m\u001b[0;34m)\u001b[0m\u001b[0;34m\u001b[0m\u001b[0;34m\u001b[0m\u001b[0m\n\u001b[0m\u001b[1;32m    148\u001b[0m         \u001b[0mend\u001b[0m \u001b[0;34m=\u001b[0m \u001b[0mtime\u001b[0m\u001b[0;34m.\u001b[0m\u001b[0mtime\u001b[0m\u001b[0;34m(\u001b[0m\u001b[0;34m)\u001b[0m\u001b[0;34m\u001b[0m\u001b[0;34m\u001b[0m\u001b[0m\n\u001b[1;32m    149\u001b[0m         \u001b[0med\u001b[0m \u001b[0;34m=\u001b[0m \u001b[0mdatetime\u001b[0m\u001b[0;34m.\u001b[0m\u001b[0mfromtimestamp\u001b[0m\u001b[0;34m(\u001b[0m\u001b[0mend\u001b[0m\u001b[0;34m)\u001b[0m\u001b[0;34m.\u001b[0m\u001b[0mstrftime\u001b[0m\u001b[0;34m(\u001b[0m\u001b[0;34m'%Y-%m-%d %H:%M:%S'\u001b[0m\u001b[0;34m)\u001b[0m\u001b[0;34m\u001b[0m\u001b[0;34m\u001b[0m\u001b[0m\n",
      "\u001b[0;32m/usr/local/lib/python3.7/dist-packages/netml/pparser/parser.py\u001b[0m in \u001b[0;36m_pcap2flows\u001b[0;34m(self, interval, q_interval, tcp_timeout, udp_timeout)\u001b[0m\n\u001b[1;32m    707\u001b[0m         \u001b[0;31m# extract all flows firstly and then split flows to subflows\u001b[0m\u001b[0;34m\u001b[0m\u001b[0;34m\u001b[0m\u001b[0;34m\u001b[0m\u001b[0m\n\u001b[1;32m    708\u001b[0m         flows = _pcap2flows(self.pcap_file, self.flow_ptks_thres, tcp_timeout=tcp_timeout, udp_timeout=udp_timeout,\n\u001b[0;32m--> 709\u001b[0;31m                             verbose=self.verbose)\n\u001b[0m\u001b[1;32m    710\u001b[0m \u001b[0;34m\u001b[0m\u001b[0m\n\u001b[1;32m    711\u001b[0m         \u001b[0;32mif\u001b[0m \u001b[0minterval\u001b[0m \u001b[0;34m>\u001b[0m \u001b[0;36m0\u001b[0m\u001b[0;34m:\u001b[0m\u001b[0;34m\u001b[0m\u001b[0;34m\u001b[0m\u001b[0m\n",
      "\u001b[0;32m/usr/local/lib/python3.7/dist-packages/netml/pparser/parser.py\u001b[0m in \u001b[0;36m_pcap2flows\u001b[0;34m(pcap_file, flow_pkts_thres, tcp_timeout, udp_timeout, verbose)\u001b[0m\n\u001b[1;32m    107\u001b[0m     \u001b[0;32mtry\u001b[0m\u001b[0;34m:\u001b[0m\u001b[0;34m\u001b[0m\u001b[0;34m\u001b[0m\u001b[0m\n\u001b[1;32m    108\u001b[0m         \u001b[0;31m# iteratively get each packet from the pcap\u001b[0m\u001b[0;34m\u001b[0m\u001b[0;34m\u001b[0m\u001b[0;34m\u001b[0m\u001b[0m\n\u001b[0;32m--> 109\u001b[0;31m         \u001b[0;32mfor\u001b[0m \u001b[0mi\u001b[0m\u001b[0;34m,\u001b[0m \u001b[0mpkt\u001b[0m \u001b[0;32min\u001b[0m \u001b[0menumerate\u001b[0m\u001b[0;34m(\u001b[0m\u001b[0mPcapReader\u001b[0m\u001b[0;34m(\u001b[0m\u001b[0mpcap_file\u001b[0m\u001b[0;34m)\u001b[0m\u001b[0;34m)\u001b[0m\u001b[0;34m:\u001b[0m\u001b[0;34m\u001b[0m\u001b[0;34m\u001b[0m\u001b[0m\n\u001b[0m\u001b[1;32m    110\u001b[0m             \u001b[0;32mif\u001b[0m \u001b[0;34m(\u001b[0m\u001b[0mverbose\u001b[0m \u001b[0;34m>\u001b[0m \u001b[0;36m3\u001b[0m\u001b[0;34m)\u001b[0m \u001b[0;32mand\u001b[0m \u001b[0;34m(\u001b[0m\u001b[0mi\u001b[0m \u001b[0;34m%\u001b[0m \u001b[0;36m10000\u001b[0m \u001b[0;34m==\u001b[0m \u001b[0;36m0\u001b[0m\u001b[0;34m)\u001b[0m\u001b[0;34m:\u001b[0m\u001b[0;34m\u001b[0m\u001b[0;34m\u001b[0m\u001b[0m\n\u001b[1;32m    111\u001b[0m                 \u001b[0mprint\u001b[0m\u001b[0;34m(\u001b[0m\u001b[0;34mf'ith_packets: {i}'\u001b[0m\u001b[0;34m)\u001b[0m\u001b[0;34m\u001b[0m\u001b[0;34m\u001b[0m\u001b[0m\n",
      "\u001b[0;32m/usr/local/lib/python3.7/dist-packages/scapy/utils.py\u001b[0m in \u001b[0;36mnext\u001b[0;34m(self)\u001b[0m\n\u001b[1;32m    961\u001b[0m         \"\"\"\n\u001b[1;32m    962\u001b[0m         \u001b[0;32mtry\u001b[0m\u001b[0;34m:\u001b[0m\u001b[0;34m\u001b[0m\u001b[0;34m\u001b[0m\u001b[0m\n\u001b[0;32m--> 963\u001b[0;31m             \u001b[0;32mreturn\u001b[0m \u001b[0mself\u001b[0m\u001b[0;34m.\u001b[0m\u001b[0mread_packet\u001b[0m\u001b[0;34m(\u001b[0m\u001b[0;34m)\u001b[0m\u001b[0;34m\u001b[0m\u001b[0;34m\u001b[0m\u001b[0m\n\u001b[0m\u001b[1;32m    964\u001b[0m         \u001b[0;32mexcept\u001b[0m \u001b[0mEOFError\u001b[0m\u001b[0;34m:\u001b[0m\u001b[0;34m\u001b[0m\u001b[0;34m\u001b[0m\u001b[0m\n\u001b[1;32m    965\u001b[0m             \u001b[0;32mraise\u001b[0m \u001b[0mStopIteration\u001b[0m\u001b[0;34m\u001b[0m\u001b[0;34m\u001b[0m\u001b[0m\n",
      "\u001b[0;32m/usr/local/lib/python3.7/dist-packages/scapy/utils.py\u001b[0m in \u001b[0;36mread_packet\u001b[0;34m(self, size)\u001b[0m\n\u001b[1;32m   1042\u001b[0m \u001b[0;34m\u001b[0m\u001b[0m\n\u001b[1;32m   1043\u001b[0m         \u001b[0;32mtry\u001b[0m\u001b[0;34m:\u001b[0m\u001b[0;34m\u001b[0m\u001b[0;34m\u001b[0m\u001b[0m\n\u001b[0;32m-> 1044\u001b[0;31m             \u001b[0mp\u001b[0m \u001b[0;34m=\u001b[0m \u001b[0mself\u001b[0m\u001b[0;34m.\u001b[0m\u001b[0mLLcls\u001b[0m\u001b[0;34m(\u001b[0m\u001b[0ms\u001b[0m\u001b[0;34m)\u001b[0m\u001b[0;34m\u001b[0m\u001b[0;34m\u001b[0m\u001b[0m\n\u001b[0m\u001b[1;32m   1045\u001b[0m         \u001b[0;32mexcept\u001b[0m \u001b[0mKeyboardInterrupt\u001b[0m\u001b[0;34m:\u001b[0m\u001b[0;34m\u001b[0m\u001b[0;34m\u001b[0m\u001b[0m\n\u001b[1;32m   1046\u001b[0m             \u001b[0;32mraise\u001b[0m\u001b[0;34m\u001b[0m\u001b[0;34m\u001b[0m\u001b[0m\n",
      "\u001b[0;32m/usr/local/lib/python3.7/dist-packages/scapy/base_classes.py\u001b[0m in \u001b[0;36m__call__\u001b[0;34m(cls, *args, **kargs)\u001b[0m\n\u001b[1;32m    256\u001b[0m                 \u001b[0mcls\u001b[0m \u001b[0;34m=\u001b[0m \u001b[0mconfig\u001b[0m\u001b[0;34m.\u001b[0m\u001b[0mconf\u001b[0m\u001b[0;34m.\u001b[0m\u001b[0mraw_layer\u001b[0m\u001b[0;34m\u001b[0m\u001b[0;34m\u001b[0m\u001b[0m\n\u001b[1;32m    257\u001b[0m         \u001b[0mi\u001b[0m \u001b[0;34m=\u001b[0m \u001b[0mcls\u001b[0m\u001b[0;34m.\u001b[0m\u001b[0m__new__\u001b[0m\u001b[0;34m(\u001b[0m\u001b[0mcls\u001b[0m\u001b[0;34m,\u001b[0m \u001b[0mcls\u001b[0m\u001b[0;34m.\u001b[0m\u001b[0m__name__\u001b[0m\u001b[0;34m,\u001b[0m \u001b[0mcls\u001b[0m\u001b[0;34m.\u001b[0m\u001b[0m__bases__\u001b[0m\u001b[0;34m,\u001b[0m \u001b[0mcls\u001b[0m\u001b[0;34m.\u001b[0m\u001b[0m__dict__\u001b[0m\u001b[0;34m)\u001b[0m\u001b[0;34m\u001b[0m\u001b[0;34m\u001b[0m\u001b[0m\n\u001b[0;32m--> 258\u001b[0;31m         \u001b[0mi\u001b[0m\u001b[0;34m.\u001b[0m\u001b[0m__init__\u001b[0m\u001b[0;34m(\u001b[0m\u001b[0;34m*\u001b[0m\u001b[0margs\u001b[0m\u001b[0;34m,\u001b[0m \u001b[0;34m**\u001b[0m\u001b[0mkargs\u001b[0m\u001b[0;34m)\u001b[0m\u001b[0;34m\u001b[0m\u001b[0;34m\u001b[0m\u001b[0m\n\u001b[0m\u001b[1;32m    259\u001b[0m         \u001b[0;32mreturn\u001b[0m \u001b[0mi\u001b[0m\u001b[0;34m\u001b[0m\u001b[0;34m\u001b[0m\u001b[0m\n\u001b[1;32m    260\u001b[0m \u001b[0;34m\u001b[0m\u001b[0m\n",
      "\u001b[0;32m/usr/local/lib/python3.7/dist-packages/scapy/packet.py\u001b[0m in \u001b[0;36m__init__\u001b[0;34m(self, _pkt, post_transform, _internal, _underlayer, **fields)\u001b[0m\n\u001b[1;32m    145\u001b[0m         \u001b[0mself\u001b[0m\u001b[0;34m.\u001b[0m\u001b[0mwirelen\u001b[0m \u001b[0;34m=\u001b[0m \u001b[0;32mNone\u001b[0m\u001b[0;34m\u001b[0m\u001b[0;34m\u001b[0m\u001b[0m\n\u001b[1;32m    146\u001b[0m         \u001b[0;32mif\u001b[0m \u001b[0m_pkt\u001b[0m\u001b[0;34m:\u001b[0m\u001b[0;34m\u001b[0m\u001b[0;34m\u001b[0m\u001b[0m\n\u001b[0;32m--> 147\u001b[0;31m             \u001b[0mself\u001b[0m\u001b[0;34m.\u001b[0m\u001b[0mdissect\u001b[0m\u001b[0;34m(\u001b[0m\u001b[0m_pkt\u001b[0m\u001b[0;34m)\u001b[0m\u001b[0;34m\u001b[0m\u001b[0;34m\u001b[0m\u001b[0m\n\u001b[0m\u001b[1;32m    148\u001b[0m             \u001b[0;32mif\u001b[0m \u001b[0;32mnot\u001b[0m \u001b[0m_internal\u001b[0m\u001b[0;34m:\u001b[0m\u001b[0;34m\u001b[0m\u001b[0;34m\u001b[0m\u001b[0m\n\u001b[1;32m    149\u001b[0m                 \u001b[0mself\u001b[0m\u001b[0;34m.\u001b[0m\u001b[0mdissection_done\u001b[0m\u001b[0;34m(\u001b[0m\u001b[0mself\u001b[0m\u001b[0;34m)\u001b[0m\u001b[0;34m\u001b[0m\u001b[0;34m\u001b[0m\u001b[0m\n",
      "\u001b[0;32m/usr/local/lib/python3.7/dist-packages/scapy/packet.py\u001b[0m in \u001b[0;36mdissect\u001b[0;34m(self, s)\u001b[0m\n\u001b[1;32m    875\u001b[0m \u001b[0;34m\u001b[0m\u001b[0m\n\u001b[1;32m    876\u001b[0m         \u001b[0mpayl\u001b[0m\u001b[0;34m,\u001b[0m \u001b[0mpad\u001b[0m \u001b[0;34m=\u001b[0m \u001b[0mself\u001b[0m\u001b[0;34m.\u001b[0m\u001b[0mextract_padding\u001b[0m\u001b[0;34m(\u001b[0m\u001b[0ms\u001b[0m\u001b[0;34m)\u001b[0m\u001b[0;34m\u001b[0m\u001b[0;34m\u001b[0m\u001b[0m\n\u001b[0;32m--> 877\u001b[0;31m         \u001b[0mself\u001b[0m\u001b[0;34m.\u001b[0m\u001b[0mdo_dissect_payload\u001b[0m\u001b[0;34m(\u001b[0m\u001b[0mpayl\u001b[0m\u001b[0;34m)\u001b[0m\u001b[0;34m\u001b[0m\u001b[0;34m\u001b[0m\u001b[0m\n\u001b[0m\u001b[1;32m    878\u001b[0m         \u001b[0;32mif\u001b[0m \u001b[0mpad\u001b[0m \u001b[0;32mand\u001b[0m \u001b[0mconf\u001b[0m\u001b[0;34m.\u001b[0m\u001b[0mpadding\u001b[0m\u001b[0;34m:\u001b[0m\u001b[0;34m\u001b[0m\u001b[0;34m\u001b[0m\u001b[0m\n\u001b[1;32m    879\u001b[0m             \u001b[0mself\u001b[0m\u001b[0;34m.\u001b[0m\u001b[0madd_payload\u001b[0m\u001b[0;34m(\u001b[0m\u001b[0mconf\u001b[0m\u001b[0;34m.\u001b[0m\u001b[0mpadding_layer\u001b[0m\u001b[0;34m(\u001b[0m\u001b[0mpad\u001b[0m\u001b[0;34m)\u001b[0m\u001b[0;34m)\u001b[0m\u001b[0;34m\u001b[0m\u001b[0;34m\u001b[0m\u001b[0m\n",
      "\u001b[0;32m/usr/local/lib/python3.7/dist-packages/scapy/packet.py\u001b[0m in \u001b[0;36mdo_dissect_payload\u001b[0;34m(self, s)\u001b[0m\n\u001b[1;32m    853\u001b[0m             \u001b[0mcls\u001b[0m \u001b[0;34m=\u001b[0m \u001b[0mself\u001b[0m\u001b[0;34m.\u001b[0m\u001b[0mguess_payload_class\u001b[0m\u001b[0;34m(\u001b[0m\u001b[0ms\u001b[0m\u001b[0;34m)\u001b[0m\u001b[0;34m\u001b[0m\u001b[0;34m\u001b[0m\u001b[0m\n\u001b[1;32m    854\u001b[0m             \u001b[0;32mtry\u001b[0m\u001b[0;34m:\u001b[0m\u001b[0;34m\u001b[0m\u001b[0;34m\u001b[0m\u001b[0m\n\u001b[0;32m--> 855\u001b[0;31m                 \u001b[0mp\u001b[0m \u001b[0;34m=\u001b[0m \u001b[0mcls\u001b[0m\u001b[0;34m(\u001b[0m\u001b[0ms\u001b[0m\u001b[0;34m,\u001b[0m \u001b[0m_internal\u001b[0m\u001b[0;34m=\u001b[0m\u001b[0;36m1\u001b[0m\u001b[0;34m,\u001b[0m \u001b[0m_underlayer\u001b[0m\u001b[0;34m=\u001b[0m\u001b[0mself\u001b[0m\u001b[0;34m)\u001b[0m\u001b[0;34m\u001b[0m\u001b[0;34m\u001b[0m\u001b[0m\n\u001b[0m\u001b[1;32m    856\u001b[0m             \u001b[0;32mexcept\u001b[0m \u001b[0mKeyboardInterrupt\u001b[0m\u001b[0;34m:\u001b[0m\u001b[0;34m\u001b[0m\u001b[0;34m\u001b[0m\u001b[0m\n\u001b[1;32m    857\u001b[0m                 \u001b[0;32mraise\u001b[0m\u001b[0;34m\u001b[0m\u001b[0;34m\u001b[0m\u001b[0m\n",
      "\u001b[0;32m/usr/local/lib/python3.7/dist-packages/scapy/base_classes.py\u001b[0m in \u001b[0;36m__call__\u001b[0;34m(cls, *args, **kargs)\u001b[0m\n\u001b[1;32m    256\u001b[0m                 \u001b[0mcls\u001b[0m \u001b[0;34m=\u001b[0m \u001b[0mconfig\u001b[0m\u001b[0;34m.\u001b[0m\u001b[0mconf\u001b[0m\u001b[0;34m.\u001b[0m\u001b[0mraw_layer\u001b[0m\u001b[0;34m\u001b[0m\u001b[0;34m\u001b[0m\u001b[0m\n\u001b[1;32m    257\u001b[0m         \u001b[0mi\u001b[0m \u001b[0;34m=\u001b[0m \u001b[0mcls\u001b[0m\u001b[0;34m.\u001b[0m\u001b[0m__new__\u001b[0m\u001b[0;34m(\u001b[0m\u001b[0mcls\u001b[0m\u001b[0;34m,\u001b[0m \u001b[0mcls\u001b[0m\u001b[0;34m.\u001b[0m\u001b[0m__name__\u001b[0m\u001b[0;34m,\u001b[0m \u001b[0mcls\u001b[0m\u001b[0;34m.\u001b[0m\u001b[0m__bases__\u001b[0m\u001b[0;34m,\u001b[0m \u001b[0mcls\u001b[0m\u001b[0;34m.\u001b[0m\u001b[0m__dict__\u001b[0m\u001b[0;34m)\u001b[0m\u001b[0;34m\u001b[0m\u001b[0;34m\u001b[0m\u001b[0m\n\u001b[0;32m--> 258\u001b[0;31m         \u001b[0mi\u001b[0m\u001b[0;34m.\u001b[0m\u001b[0m__init__\u001b[0m\u001b[0;34m(\u001b[0m\u001b[0;34m*\u001b[0m\u001b[0margs\u001b[0m\u001b[0;34m,\u001b[0m \u001b[0;34m**\u001b[0m\u001b[0mkargs\u001b[0m\u001b[0;34m)\u001b[0m\u001b[0;34m\u001b[0m\u001b[0;34m\u001b[0m\u001b[0m\n\u001b[0m\u001b[1;32m    259\u001b[0m         \u001b[0;32mreturn\u001b[0m \u001b[0mi\u001b[0m\u001b[0;34m\u001b[0m\u001b[0;34m\u001b[0m\u001b[0m\n\u001b[1;32m    260\u001b[0m \u001b[0;34m\u001b[0m\u001b[0m\n",
      "\u001b[0;32m/usr/local/lib/python3.7/dist-packages/scapy/packet.py\u001b[0m in \u001b[0;36m__init__\u001b[0;34m(self, _pkt, post_transform, _internal, _underlayer, **fields)\u001b[0m\n\u001b[1;32m    145\u001b[0m         \u001b[0mself\u001b[0m\u001b[0;34m.\u001b[0m\u001b[0mwirelen\u001b[0m \u001b[0;34m=\u001b[0m \u001b[0;32mNone\u001b[0m\u001b[0;34m\u001b[0m\u001b[0;34m\u001b[0m\u001b[0m\n\u001b[1;32m    146\u001b[0m         \u001b[0;32mif\u001b[0m \u001b[0m_pkt\u001b[0m\u001b[0;34m:\u001b[0m\u001b[0;34m\u001b[0m\u001b[0;34m\u001b[0m\u001b[0m\n\u001b[0;32m--> 147\u001b[0;31m             \u001b[0mself\u001b[0m\u001b[0;34m.\u001b[0m\u001b[0mdissect\u001b[0m\u001b[0;34m(\u001b[0m\u001b[0m_pkt\u001b[0m\u001b[0;34m)\u001b[0m\u001b[0;34m\u001b[0m\u001b[0;34m\u001b[0m\u001b[0m\n\u001b[0m\u001b[1;32m    148\u001b[0m             \u001b[0;32mif\u001b[0m \u001b[0;32mnot\u001b[0m \u001b[0m_internal\u001b[0m\u001b[0;34m:\u001b[0m\u001b[0;34m\u001b[0m\u001b[0;34m\u001b[0m\u001b[0m\n\u001b[1;32m    149\u001b[0m                 \u001b[0mself\u001b[0m\u001b[0;34m.\u001b[0m\u001b[0mdissection_done\u001b[0m\u001b[0;34m(\u001b[0m\u001b[0mself\u001b[0m\u001b[0;34m)\u001b[0m\u001b[0;34m\u001b[0m\u001b[0;34m\u001b[0m\u001b[0m\n",
      "\u001b[0;32m/usr/local/lib/python3.7/dist-packages/scapy/packet.py\u001b[0m in \u001b[0;36mdissect\u001b[0;34m(self, s)\u001b[0m\n\u001b[1;32m    875\u001b[0m \u001b[0;34m\u001b[0m\u001b[0m\n\u001b[1;32m    876\u001b[0m         \u001b[0mpayl\u001b[0m\u001b[0;34m,\u001b[0m \u001b[0mpad\u001b[0m \u001b[0;34m=\u001b[0m \u001b[0mself\u001b[0m\u001b[0;34m.\u001b[0m\u001b[0mextract_padding\u001b[0m\u001b[0;34m(\u001b[0m\u001b[0ms\u001b[0m\u001b[0;34m)\u001b[0m\u001b[0;34m\u001b[0m\u001b[0;34m\u001b[0m\u001b[0m\n\u001b[0;32m--> 877\u001b[0;31m         \u001b[0mself\u001b[0m\u001b[0;34m.\u001b[0m\u001b[0mdo_dissect_payload\u001b[0m\u001b[0;34m(\u001b[0m\u001b[0mpayl\u001b[0m\u001b[0;34m)\u001b[0m\u001b[0;34m\u001b[0m\u001b[0;34m\u001b[0m\u001b[0m\n\u001b[0m\u001b[1;32m    878\u001b[0m         \u001b[0;32mif\u001b[0m \u001b[0mpad\u001b[0m \u001b[0;32mand\u001b[0m \u001b[0mconf\u001b[0m\u001b[0;34m.\u001b[0m\u001b[0mpadding\u001b[0m\u001b[0;34m:\u001b[0m\u001b[0;34m\u001b[0m\u001b[0;34m\u001b[0m\u001b[0m\n\u001b[1;32m    879\u001b[0m             \u001b[0mself\u001b[0m\u001b[0;34m.\u001b[0m\u001b[0madd_payload\u001b[0m\u001b[0;34m(\u001b[0m\u001b[0mconf\u001b[0m\u001b[0;34m.\u001b[0m\u001b[0mpadding_layer\u001b[0m\u001b[0;34m(\u001b[0m\u001b[0mpad\u001b[0m\u001b[0;34m)\u001b[0m\u001b[0;34m)\u001b[0m\u001b[0;34m\u001b[0m\u001b[0;34m\u001b[0m\u001b[0m\n",
      "\u001b[0;32m/usr/local/lib/python3.7/dist-packages/scapy/packet.py\u001b[0m in \u001b[0;36mdo_dissect_payload\u001b[0;34m(self, s)\u001b[0m\n\u001b[1;32m    853\u001b[0m             \u001b[0mcls\u001b[0m \u001b[0;34m=\u001b[0m \u001b[0mself\u001b[0m\u001b[0;34m.\u001b[0m\u001b[0mguess_payload_class\u001b[0m\u001b[0;34m(\u001b[0m\u001b[0ms\u001b[0m\u001b[0;34m)\u001b[0m\u001b[0;34m\u001b[0m\u001b[0;34m\u001b[0m\u001b[0m\n\u001b[1;32m    854\u001b[0m             \u001b[0;32mtry\u001b[0m\u001b[0;34m:\u001b[0m\u001b[0;34m\u001b[0m\u001b[0;34m\u001b[0m\u001b[0m\n\u001b[0;32m--> 855\u001b[0;31m                 \u001b[0mp\u001b[0m \u001b[0;34m=\u001b[0m \u001b[0mcls\u001b[0m\u001b[0;34m(\u001b[0m\u001b[0ms\u001b[0m\u001b[0;34m,\u001b[0m \u001b[0m_internal\u001b[0m\u001b[0;34m=\u001b[0m\u001b[0;36m1\u001b[0m\u001b[0;34m,\u001b[0m \u001b[0m_underlayer\u001b[0m\u001b[0;34m=\u001b[0m\u001b[0mself\u001b[0m\u001b[0;34m)\u001b[0m\u001b[0;34m\u001b[0m\u001b[0;34m\u001b[0m\u001b[0m\n\u001b[0m\u001b[1;32m    856\u001b[0m             \u001b[0;32mexcept\u001b[0m \u001b[0mKeyboardInterrupt\u001b[0m\u001b[0;34m:\u001b[0m\u001b[0;34m\u001b[0m\u001b[0;34m\u001b[0m\u001b[0m\n\u001b[1;32m    857\u001b[0m                 \u001b[0;32mraise\u001b[0m\u001b[0;34m\u001b[0m\u001b[0;34m\u001b[0m\u001b[0m\n",
      "\u001b[0;32m/usr/local/lib/python3.7/dist-packages/scapy/base_classes.py\u001b[0m in \u001b[0;36m__call__\u001b[0;34m(cls, *args, **kargs)\u001b[0m\n\u001b[1;32m    256\u001b[0m                 \u001b[0mcls\u001b[0m \u001b[0;34m=\u001b[0m \u001b[0mconfig\u001b[0m\u001b[0;34m.\u001b[0m\u001b[0mconf\u001b[0m\u001b[0;34m.\u001b[0m\u001b[0mraw_layer\u001b[0m\u001b[0;34m\u001b[0m\u001b[0;34m\u001b[0m\u001b[0m\n\u001b[1;32m    257\u001b[0m         \u001b[0mi\u001b[0m \u001b[0;34m=\u001b[0m \u001b[0mcls\u001b[0m\u001b[0;34m.\u001b[0m\u001b[0m__new__\u001b[0m\u001b[0;34m(\u001b[0m\u001b[0mcls\u001b[0m\u001b[0;34m,\u001b[0m \u001b[0mcls\u001b[0m\u001b[0;34m.\u001b[0m\u001b[0m__name__\u001b[0m\u001b[0;34m,\u001b[0m \u001b[0mcls\u001b[0m\u001b[0;34m.\u001b[0m\u001b[0m__bases__\u001b[0m\u001b[0;34m,\u001b[0m \u001b[0mcls\u001b[0m\u001b[0;34m.\u001b[0m\u001b[0m__dict__\u001b[0m\u001b[0;34m)\u001b[0m\u001b[0;34m\u001b[0m\u001b[0;34m\u001b[0m\u001b[0m\n\u001b[0;32m--> 258\u001b[0;31m         \u001b[0mi\u001b[0m\u001b[0;34m.\u001b[0m\u001b[0m__init__\u001b[0m\u001b[0;34m(\u001b[0m\u001b[0;34m*\u001b[0m\u001b[0margs\u001b[0m\u001b[0;34m,\u001b[0m \u001b[0;34m**\u001b[0m\u001b[0mkargs\u001b[0m\u001b[0;34m)\u001b[0m\u001b[0;34m\u001b[0m\u001b[0;34m\u001b[0m\u001b[0m\n\u001b[0m\u001b[1;32m    259\u001b[0m         \u001b[0;32mreturn\u001b[0m \u001b[0mi\u001b[0m\u001b[0;34m\u001b[0m\u001b[0;34m\u001b[0m\u001b[0m\n\u001b[1;32m    260\u001b[0m \u001b[0;34m\u001b[0m\u001b[0m\n",
      "\u001b[0;32m/usr/local/lib/python3.7/dist-packages/scapy/packet.py\u001b[0m in \u001b[0;36m__init__\u001b[0;34m(self, _pkt, post_transform, _internal, _underlayer, **fields)\u001b[0m\n\u001b[1;32m    145\u001b[0m         \u001b[0mself\u001b[0m\u001b[0;34m.\u001b[0m\u001b[0mwirelen\u001b[0m \u001b[0;34m=\u001b[0m \u001b[0;32mNone\u001b[0m\u001b[0;34m\u001b[0m\u001b[0;34m\u001b[0m\u001b[0m\n\u001b[1;32m    146\u001b[0m         \u001b[0;32mif\u001b[0m \u001b[0m_pkt\u001b[0m\u001b[0;34m:\u001b[0m\u001b[0;34m\u001b[0m\u001b[0;34m\u001b[0m\u001b[0m\n\u001b[0;32m--> 147\u001b[0;31m             \u001b[0mself\u001b[0m\u001b[0;34m.\u001b[0m\u001b[0mdissect\u001b[0m\u001b[0;34m(\u001b[0m\u001b[0m_pkt\u001b[0m\u001b[0;34m)\u001b[0m\u001b[0;34m\u001b[0m\u001b[0;34m\u001b[0m\u001b[0m\n\u001b[0m\u001b[1;32m    148\u001b[0m             \u001b[0;32mif\u001b[0m \u001b[0;32mnot\u001b[0m \u001b[0m_internal\u001b[0m\u001b[0;34m:\u001b[0m\u001b[0;34m\u001b[0m\u001b[0;34m\u001b[0m\u001b[0m\n\u001b[1;32m    149\u001b[0m                 \u001b[0mself\u001b[0m\u001b[0;34m.\u001b[0m\u001b[0mdissection_done\u001b[0m\u001b[0;34m(\u001b[0m\u001b[0mself\u001b[0m\u001b[0;34m)\u001b[0m\u001b[0;34m\u001b[0m\u001b[0;34m\u001b[0m\u001b[0m\n",
      "\u001b[0;32m/usr/local/lib/python3.7/dist-packages/scapy/packet.py\u001b[0m in \u001b[0;36mdissect\u001b[0;34m(self, s)\u001b[0m\n\u001b[1;32m    875\u001b[0m \u001b[0;34m\u001b[0m\u001b[0m\n\u001b[1;32m    876\u001b[0m         \u001b[0mpayl\u001b[0m\u001b[0;34m,\u001b[0m \u001b[0mpad\u001b[0m \u001b[0;34m=\u001b[0m \u001b[0mself\u001b[0m\u001b[0;34m.\u001b[0m\u001b[0mextract_padding\u001b[0m\u001b[0;34m(\u001b[0m\u001b[0ms\u001b[0m\u001b[0;34m)\u001b[0m\u001b[0;34m\u001b[0m\u001b[0;34m\u001b[0m\u001b[0m\n\u001b[0;32m--> 877\u001b[0;31m         \u001b[0mself\u001b[0m\u001b[0;34m.\u001b[0m\u001b[0mdo_dissect_payload\u001b[0m\u001b[0;34m(\u001b[0m\u001b[0mpayl\u001b[0m\u001b[0;34m)\u001b[0m\u001b[0;34m\u001b[0m\u001b[0;34m\u001b[0m\u001b[0m\n\u001b[0m\u001b[1;32m    878\u001b[0m         \u001b[0;32mif\u001b[0m \u001b[0mpad\u001b[0m \u001b[0;32mand\u001b[0m \u001b[0mconf\u001b[0m\u001b[0;34m.\u001b[0m\u001b[0mpadding\u001b[0m\u001b[0;34m:\u001b[0m\u001b[0;34m\u001b[0m\u001b[0;34m\u001b[0m\u001b[0m\n\u001b[1;32m    879\u001b[0m             \u001b[0mself\u001b[0m\u001b[0;34m.\u001b[0m\u001b[0madd_payload\u001b[0m\u001b[0;34m(\u001b[0m\u001b[0mconf\u001b[0m\u001b[0;34m.\u001b[0m\u001b[0mpadding_layer\u001b[0m\u001b[0;34m(\u001b[0m\u001b[0mpad\u001b[0m\u001b[0;34m)\u001b[0m\u001b[0;34m)\u001b[0m\u001b[0;34m\u001b[0m\u001b[0;34m\u001b[0m\u001b[0m\n",
      "\u001b[0;32m/usr/local/lib/python3.7/dist-packages/scapy/packet.py\u001b[0m in \u001b[0;36mdo_dissect_payload\u001b[0;34m(self, s)\u001b[0m\n\u001b[1;32m    853\u001b[0m             \u001b[0mcls\u001b[0m \u001b[0;34m=\u001b[0m \u001b[0mself\u001b[0m\u001b[0;34m.\u001b[0m\u001b[0mguess_payload_class\u001b[0m\u001b[0;34m(\u001b[0m\u001b[0ms\u001b[0m\u001b[0;34m)\u001b[0m\u001b[0;34m\u001b[0m\u001b[0;34m\u001b[0m\u001b[0m\n\u001b[1;32m    854\u001b[0m             \u001b[0;32mtry\u001b[0m\u001b[0;34m:\u001b[0m\u001b[0;34m\u001b[0m\u001b[0;34m\u001b[0m\u001b[0m\n\u001b[0;32m--> 855\u001b[0;31m                 \u001b[0mp\u001b[0m \u001b[0;34m=\u001b[0m \u001b[0mcls\u001b[0m\u001b[0;34m(\u001b[0m\u001b[0ms\u001b[0m\u001b[0;34m,\u001b[0m \u001b[0m_internal\u001b[0m\u001b[0;34m=\u001b[0m\u001b[0;36m1\u001b[0m\u001b[0;34m,\u001b[0m \u001b[0m_underlayer\u001b[0m\u001b[0;34m=\u001b[0m\u001b[0mself\u001b[0m\u001b[0;34m)\u001b[0m\u001b[0;34m\u001b[0m\u001b[0;34m\u001b[0m\u001b[0m\n\u001b[0m\u001b[1;32m    856\u001b[0m             \u001b[0;32mexcept\u001b[0m \u001b[0mKeyboardInterrupt\u001b[0m\u001b[0;34m:\u001b[0m\u001b[0;34m\u001b[0m\u001b[0;34m\u001b[0m\u001b[0m\n\u001b[1;32m    857\u001b[0m                 \u001b[0;32mraise\u001b[0m\u001b[0;34m\u001b[0m\u001b[0;34m\u001b[0m\u001b[0m\n",
      "\u001b[0;32m/usr/local/lib/python3.7/dist-packages/scapy/base_classes.py\u001b[0m in \u001b[0;36m__call__\u001b[0;34m(cls, *args, **kargs)\u001b[0m\n\u001b[1;32m    256\u001b[0m                 \u001b[0mcls\u001b[0m \u001b[0;34m=\u001b[0m \u001b[0mconfig\u001b[0m\u001b[0;34m.\u001b[0m\u001b[0mconf\u001b[0m\u001b[0;34m.\u001b[0m\u001b[0mraw_layer\u001b[0m\u001b[0;34m\u001b[0m\u001b[0;34m\u001b[0m\u001b[0m\n\u001b[1;32m    257\u001b[0m         \u001b[0mi\u001b[0m \u001b[0;34m=\u001b[0m \u001b[0mcls\u001b[0m\u001b[0;34m.\u001b[0m\u001b[0m__new__\u001b[0m\u001b[0;34m(\u001b[0m\u001b[0mcls\u001b[0m\u001b[0;34m,\u001b[0m \u001b[0mcls\u001b[0m\u001b[0;34m.\u001b[0m\u001b[0m__name__\u001b[0m\u001b[0;34m,\u001b[0m \u001b[0mcls\u001b[0m\u001b[0;34m.\u001b[0m\u001b[0m__bases__\u001b[0m\u001b[0;34m,\u001b[0m \u001b[0mcls\u001b[0m\u001b[0;34m.\u001b[0m\u001b[0m__dict__\u001b[0m\u001b[0;34m)\u001b[0m\u001b[0;34m\u001b[0m\u001b[0;34m\u001b[0m\u001b[0m\n\u001b[0;32m--> 258\u001b[0;31m         \u001b[0mi\u001b[0m\u001b[0;34m.\u001b[0m\u001b[0m__init__\u001b[0m\u001b[0;34m(\u001b[0m\u001b[0;34m*\u001b[0m\u001b[0margs\u001b[0m\u001b[0;34m,\u001b[0m \u001b[0;34m**\u001b[0m\u001b[0mkargs\u001b[0m\u001b[0;34m)\u001b[0m\u001b[0;34m\u001b[0m\u001b[0;34m\u001b[0m\u001b[0m\n\u001b[0m\u001b[1;32m    259\u001b[0m         \u001b[0;32mreturn\u001b[0m \u001b[0mi\u001b[0m\u001b[0;34m\u001b[0m\u001b[0;34m\u001b[0m\u001b[0m\n\u001b[1;32m    260\u001b[0m \u001b[0;34m\u001b[0m\u001b[0m\n",
      "\u001b[0;32m/usr/local/lib/python3.7/dist-packages/scapy/packet.py\u001b[0m in \u001b[0;36m__init__\u001b[0;34m(self, _pkt, post_transform, _internal, _underlayer, **fields)\u001b[0m\n\u001b[1;32m    136\u001b[0m         \u001b[0mself\u001b[0m\u001b[0;34m.\u001b[0m\u001b[0mfieldtype\u001b[0m \u001b[0;34m=\u001b[0m \u001b[0;34m{\u001b[0m\u001b[0;34m}\u001b[0m\u001b[0;34m\u001b[0m\u001b[0;34m\u001b[0m\u001b[0m\n\u001b[1;32m    137\u001b[0m         \u001b[0mself\u001b[0m\u001b[0;34m.\u001b[0m\u001b[0mpacketfields\u001b[0m \u001b[0;34m=\u001b[0m \u001b[0;34m[\u001b[0m\u001b[0;34m]\u001b[0m\u001b[0;34m\u001b[0m\u001b[0;34m\u001b[0m\u001b[0m\n\u001b[0;32m--> 138\u001b[0;31m         \u001b[0mself\u001b[0m\u001b[0;34m.\u001b[0m\u001b[0mpayload\u001b[0m \u001b[0;34m=\u001b[0m \u001b[0mNoPayload\u001b[0m\u001b[0;34m(\u001b[0m\u001b[0;34m)\u001b[0m\u001b[0;34m\u001b[0m\u001b[0;34m\u001b[0m\u001b[0m\n\u001b[0m\u001b[1;32m    139\u001b[0m         \u001b[0mself\u001b[0m\u001b[0;34m.\u001b[0m\u001b[0minit_fields\u001b[0m\u001b[0;34m(\u001b[0m\u001b[0;34m)\u001b[0m\u001b[0;34m\u001b[0m\u001b[0;34m\u001b[0m\u001b[0m\n\u001b[1;32m    140\u001b[0m         \u001b[0mself\u001b[0m\u001b[0;34m.\u001b[0m\u001b[0munderlayer\u001b[0m \u001b[0;34m=\u001b[0m \u001b[0m_underlayer\u001b[0m\u001b[0;34m\u001b[0m\u001b[0;34m\u001b[0m\u001b[0m\n",
      "\u001b[0;32m/usr/local/lib/python3.7/dist-packages/scapy/base_classes.py\u001b[0m in \u001b[0;36m__call__\u001b[0;34m(cls, *args, **kargs)\u001b[0m\n\u001b[1;32m    247\u001b[0m \u001b[0;34m\u001b[0m\u001b[0m\n\u001b[1;32m    248\u001b[0m     \u001b[0;32mdef\u001b[0m \u001b[0m__call__\u001b[0m\u001b[0;34m(\u001b[0m\u001b[0mcls\u001b[0m\u001b[0;34m,\u001b[0m \u001b[0;34m*\u001b[0m\u001b[0margs\u001b[0m\u001b[0;34m,\u001b[0m \u001b[0;34m**\u001b[0m\u001b[0mkargs\u001b[0m\u001b[0;34m)\u001b[0m\u001b[0;34m:\u001b[0m\u001b[0;34m\u001b[0m\u001b[0;34m\u001b[0m\u001b[0m\n\u001b[0;32m--> 249\u001b[0;31m         \u001b[0;32mif\u001b[0m \u001b[0;34m\"dispatch_hook\"\u001b[0m \u001b[0;32min\u001b[0m \u001b[0mcls\u001b[0m\u001b[0;34m.\u001b[0m\u001b[0m__dict__\u001b[0m\u001b[0;34m:\u001b[0m\u001b[0;34m\u001b[0m\u001b[0;34m\u001b[0m\u001b[0m\n\u001b[0m\u001b[1;32m    250\u001b[0m             \u001b[0;32mtry\u001b[0m\u001b[0;34m:\u001b[0m\u001b[0;34m\u001b[0m\u001b[0;34m\u001b[0m\u001b[0m\n\u001b[1;32m    251\u001b[0m                 \u001b[0mcls\u001b[0m \u001b[0;34m=\u001b[0m \u001b[0mcls\u001b[0m\u001b[0;34m.\u001b[0m\u001b[0mdispatch_hook\u001b[0m\u001b[0;34m(\u001b[0m\u001b[0;34m*\u001b[0m\u001b[0margs\u001b[0m\u001b[0;34m,\u001b[0m \u001b[0;34m**\u001b[0m\u001b[0mkargs\u001b[0m\u001b[0;34m)\u001b[0m\u001b[0;34m\u001b[0m\u001b[0;34m\u001b[0m\u001b[0m\n",
      "\u001b[0;31mKeyboardInterrupt\u001b[0m: "
     ]
    }
   ],
   "source": [
    "for cat in cats: # pour chaqye dossier Benign, Malware\n",
    "    path = os.path.join(dataDir,cat)\n",
    "    for filePcap in os.listdir(path): #parcours les fichiers pour chaque dossier\n",
    "        pprint.pprint(path)\n",
    "        pprint.pprint(filePcap)\n",
    "\n",
    "        parsedPcap = PCAP(\n",
    "        os.path.join(path,filePcap),\n",
    "        flow_ptks_thres=packetsPerFlow,\n",
    "        )\n",
    "        parsedPcap.pcap2flows(interval=1000)\n",
    "        for flow in tqdm(parsedPcap.flows): #(val,182.168.1.15,,)(<Ether\n",
    "            flow = flow[1:] # retirer le premier élément car inutile\n",
    "            for packets in flow:\n",
    "                newFlow = []\n",
    "                for i,packet in enumerate(packets):\n",
    "                    packetHex = linehexdump(packet.payload,onlyhex=1,dump=True) # dump packet to hex\n",
    "                    packetHexnoSpace = packetHex.replace(' ','').lower() #to hex\n",
    "                    packetBytes = bytes.fromhex(packetHexnoSpace) # to bytestring\n",
    "                    if len(packetBytes) < packetSizeInBytes: # ajuster les packets à une taille de 100 bytes \n",
    "                        packetPadded = packetBytes.ljust(packetSizeInBytes,b'\\0') #padding\n",
    "                    else:\n",
    "                        packetPadded = packetBytes[:packetSizeInBytes] # couper les paquet trop grand\n",
    "                    if i >= packetsPerFlow:\n",
    "                        break\n",
    "                    newFlow.append(packetPadded)\n",
    "                    training_data.append([newFlow,getLabelForFile(filePcap)])\n",
    "\n",
    "#pprint.pprint(parsedPcap.labels[:5])\n",
    "\"\"\"\n",
    "TODO : convertir hexdump srting to bytestring (https://www.delftstack.com/howto/python/python-convert-hex-to-byte/)\n",
    "        - ensure only the two first packet are processed ok\n",
    "        - implement padding ok\n",
    "        - label each flow \n",
    "        - put everything in pickles\n",
    "        - tweak to treat whole dataset not juste one pcap file\n",
    "\n",
    "        [[packet 1,\n",
    "        packet 2],\n",
    "        label]\n",
    "\"\"\"\n",
    "\n",
    "\n",
    "\n"
   ]
  },
  {
   "cell_type": "code",
   "execution_count": null,
   "id": "b11b14be",
   "metadata": {},
   "outputs": [],
   "source": [
    "import random\n",
    "random.shuffle(training_data)"
   ]
  },
  {
   "cell_type": "code",
   "execution_count": null,
   "id": "ba490974",
   "metadata": {},
   "outputs": [],
   "source": [
    "X = []\n",
    "y = []\n",
    "\n",
    "for features,label in training_data:\n",
    "    X.append(features)\n",
    "    y.append(label)\n",
    "\n"
   ]
  },
  {
   "cell_type": "code",
   "execution_count": null,
   "id": "0f6a29b3",
   "metadata": {},
   "outputs": [],
   "source": [
    "import pickle\n",
    "\n",
    "pickle_out = open(\"X.pickle\",\"wb\")\n",
    "pickle.dump(X, pickle_out)\n",
    "pickle_out.close()\n",
    "\n",
    "pickle_out = open(\"y.pickle\",\"wb\")\n",
    "pickle.dump(y, pickle_out)\n",
    "pickle_out.close()"
   ]
  }
 ],
 "metadata": {
  "kernelspec": {
   "display_name": "Python 3",
   "language": "python",
   "name": "python3"
  },
  "language_info": {
   "codemirror_mode": {
    "name": "ipython",
    "version": 3
   },
   "file_extension": ".py",
   "mimetype": "text/x-python",
   "name": "python",
   "nbconvert_exporter": "python",
   "pygments_lexer": "ipython3",
   "version": "3.7.3"
  }
 },
 "nbformat": 4,
 "nbformat_minor": 5
}
