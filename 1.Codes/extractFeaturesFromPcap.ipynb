{
 "cells": [
  {
   "cell_type": "code",
   "execution_count": 1,
   "id": "108d6513",
   "metadata": {},
   "outputs": [],
   "source": [
    "import os\n",
    "from netml.pparser.parser import PCAP\n",
    "import pprint\n",
    "from scapy.all import *\n",
    "from scapy.layers.inet import *\n",
    "from tqdm import tqdm\n",
    "\n",
    "import tensorflow as tf\n"
   ]
  },
  {
   "cell_type": "code",
   "execution_count": 2,
   "id": "93bbd066",
   "metadata": {},
   "outputs": [],
   "source": [
    "dataDir = \"/code/2.Malwares/\"\n",
    "targetFile = \"Zeus.pcap\"\n",
    "destination = dataDir + \"out\"\n",
    "tsharkPath=\"/usr/bin/tshark\"\n",
    "packetSizeInBytes = 100\n",
    "packetsPerFlow = 2\n",
    "tfrecorsFolder = dataDir + 'tfrecords/'\n",
    "testFolder = dataDir + 'test/'\n",
    "validationFolder = dataDir + 'validation/'\n",
    "\n",
    "nb_shards = 10\n",
    "arrOfTfrecordsWriter = [] # un objet criter par shard"
   ]
  },
  {
   "cell_type": "code",
   "execution_count": 3,
   "id": "d34c9f99",
   "metadata": {},
   "outputs": [],
   "source": [
    "cats = [\"Benign\",\"Malware\"] #Catégorie\n",
    "listofProcessedFiles = []\n",
    "training_data = []"
   ]
  },
  {
   "cell_type": "code",
   "execution_count": 4,
   "id": "0d99d2bc",
   "metadata": {},
   "outputs": [],
   "source": [
    "for i in range(nb_shards):\n",
    "    arrOfTfrecordsWriter.append(tf.io.TFRecordWriter(path=tfrecorsFolder + 'shard_' + str(i) + '.tfrecords'))"
   ]
  },
  {
   "cell_type": "code",
   "execution_count": 5,
   "id": "ddd24525",
   "metadata": {},
   "outputs": [],
   "source": [
    "def getLabelForFile(filename):\n",
    "    filename.replace('.pcap','')\n",
    "    if filename.find('-') != -1:\n",
    "        filename = filename.split('-')[0]\n",
    "    for index,processedFile in enumerate(listofProcessedFiles):\n",
    "        if processedFile == filename:\n",
    "            return index\n",
    "    listofProcessedFiles.append(filename)\n",
    "    return len(listofProcessedFiles)\n",
    "    \n",
    "#pprint.pprint(listofProcessedFiles)\n",
    "#label = getLabelForFile('tes-test')\n",
    "#print(label)"
   ]
  },
  {
   "cell_type": "code",
   "execution_count": 6,
   "id": "adc262ba",
   "metadata": {},
   "outputs": [],
   "source": [
    "def _bytes_feature(value):# peut-être un tableau\n",
    "    \"\"\"Returns a bytes_list from a string / byte.\"\"\"\n",
    "    if isinstance(value, type(tf.constant(0))):\n",
    "        value = value.numpy()  # BytesList won't unpack a string from an EagerTensor.\n",
    "    return tf.train.Feature(bytes_list=tf.train.BytesList(value=[value]))"
   ]
  },
  {
   "cell_type": "code",
   "execution_count": 7,
   "id": "390035d4",
   "metadata": {},
   "outputs": [],
   "source": [
    "def _int64_feature(value):\n",
    "    \"\"\"Returns an int64_list from a bool / enum / int / uint.\"\"\"\n",
    "    return tf.train.Feature(int64_list=tf.train.Int64List(value=[value]))"
   ]
  },
  {
   "cell_type": "code",
   "execution_count": 8,
   "id": "f721c61e",
   "metadata": {},
   "outputs": [],
   "source": [
    "# Create the features dictionary.\n",
    "def packet_example(packetArray, label):\n",
    "    feature = {\n",
    "        'label': _int64_feature(label),\n",
    "        'packet1': _bytes_feature(packetArray[0]),\n",
    "        'packet2': _bytes_feature(packetArray[1]),\n",
    "    }\n",
    "    return tf.train.Example(features=tf.train.Features(feature=feature))"
   ]
  },
  {
   "cell_type": "code",
   "execution_count": 9,
   "id": "d0cd5fb7",
   "metadata": {},
   "outputs": [],
   "source": [
    " def processPackets(packets):\n",
    "    newFlow = []\n",
    "    for i,packet in enumerate(packets):\n",
    "        packetHex = linehexdump(packet.payload,onlyhex=1,dump=True) # dump packet to hex 01 DE \n",
    "        packetHexnoSpace = packetHex.replace(' ','').lower() #to hex 01de\n",
    "        packetBytes = bytes.fromhex(packetHexnoSpace) # to bytestring\n",
    "        if len(packetBytes) < packetSizeInBytes: # ajuster les packets à une taille de 100 bytes \n",
    "            packetPadded = packetBytes.ljust(packetSizeInBytes,b'\\0') #padding\n",
    "        else:\n",
    "            packetPadded = packetBytes[:packetSizeInBytes] # couper les paquet trop grand\n",
    "        if i >= packetsPerFlow:\n",
    "            break\n",
    "        newFlow.append(packetPadded)\n",
    "    return newFlow\n"
   ]
  },
  {
   "cell_type": "code",
   "execution_count": 10,
   "id": "dda772df",
   "metadata": {
    "tags": []
   },
   "outputs": [
    {
     "name": "stdout",
     "output_type": "stream",
     "text": [
      "'/code/2.Malwares/Benign'\n",
      "'Outlook.pcap'\n",
      "'_pcap2flows()' starts at 2021-05-03 13:16:53\n",
      "pcap_file: /code/2.Malwares/Benign/Outlook.pcap\n"
     ]
    },
    {
     "name": "stderr",
     "output_type": "stream",
     "text": [
      "100%|██████████| 15/15 [00:00<00:00, 3193.47it/s]"
     ]
    },
    {
     "name": "stdout",
     "output_type": "stream",
     "text": [
      "After splitting flows, the number of subflows: 15 and each of them has at least 2 packets.\n",
      "'_pcap2flows()' ends at 2021-05-03 13:16:58 and takes 0.0783 mins.\n",
      "'/code/2.Malwares/Benign'\n",
      "'WorldOfWarcraft.pcap'\n",
      "'_pcap2flows()' starts at 2021-05-03 13:16:58\n",
      "pcap_file: /code/2.Malwares/Benign/WorldOfWarcraft.pcap\n"
     ]
    },
    {
     "name": "stderr",
     "output_type": "stream",
     "text": [
      "\n",
      "  4%|▎         | 572/15730 [00:00<00:02, 5718.61it/s]"
     ]
    },
    {
     "name": "stdout",
     "output_type": "stream",
     "text": [
      "After splitting flows, the number of subflows: 15730 and each of them has at least 2 packets.\n",
      "'_pcap2flows()' ends at 2021-05-03 13:17:40 and takes 0.6998 mins.\n"
     ]
    },
    {
     "name": "stderr",
     "output_type": "stream",
     "text": [
      "100%|██████████| 15730/15730 [00:02<00:00, 5386.66it/s]\n"
     ]
    },
    {
     "name": "stdout",
     "output_type": "stream",
     "text": [
      "'/code/2.Malwares/Benign'\n",
      "'Weibo-3.pcap'\n",
      "'_pcap2flows()' starts at 2021-05-03 13:17:43\n",
      "pcap_file: /code/2.Malwares/Benign/Weibo-3.pcap\n"
     ]
    },
    {
     "name": "stderr",
     "output_type": "stream",
     "text": [
      "  1%|▏         | 113/7901 [00:00<00:06, 1115.31it/s]"
     ]
    },
    {
     "name": "stdout",
     "output_type": "stream",
     "text": [
      "After splitting flows, the number of subflows: 7901 and each of them has at least 2 packets.\n",
      "'_pcap2flows()' ends at 2021-05-03 13:18:34 and takes 0.847 mins.\n"
     ]
    },
    {
     "name": "stderr",
     "output_type": "stream",
     "text": [
      "100%|██████████| 7901/7901 [00:07<00:00, 1081.72it/s]\n"
     ]
    },
    {
     "name": "stdout",
     "output_type": "stream",
     "text": [
      "'/code/2.Malwares/Benign'\n",
      "'BitTorrent.pcap'\n",
      "'_pcap2flows()' starts at 2021-05-03 13:18:41\n",
      "pcap_file: /code/2.Malwares/Benign/BitTorrent.pcap\n"
     ]
    },
    {
     "name": "stderr",
     "output_type": "stream",
     "text": [
      "0it [00:00, ?it/s]"
     ]
    },
    {
     "name": "stdout",
     "output_type": "stream",
     "text": [
      "After splitting flows, the number of subflows: 0 and each of them has at least 2 packets.\n",
      "'_pcap2flows()' ends at 2021-05-03 13:18:47 and takes 0.1099 mins.\n",
      "'/code/2.Malwares/Benign'\n",
      "'SMB-1coupe_00005_19700101015730.pcap'\n",
      "'_pcap2flows()' starts at 2021-05-03 13:18:47\n",
      "pcap_file: /code/2.Malwares/Benign/SMB-1coupe_00005_19700101015730.pcap\n"
     ]
    },
    {
     "name": "stderr",
     "output_type": "stream",
     "text": [
      "\n",
      " 19%|█▉        | 220/1156 [00:00<00:00, 1086.30it/s]"
     ]
    },
    {
     "name": "stdout",
     "output_type": "stream",
     "text": [
      "After splitting flows, the number of subflows: 1156 and each of them has at least 2 packets.\n",
      "'_pcap2flows()' ends at 2021-05-03 13:18:55 and takes 0.1276 mins.\n"
     ]
    },
    {
     "name": "stderr",
     "output_type": "stream",
     "text": [
      "100%|██████████| 1156/1156 [00:01<00:00, 1075.02it/s]\n"
     ]
    },
    {
     "name": "stdout",
     "output_type": "stream",
     "text": [
      "'/code/2.Malwares/Benign'\n",
      "'SMB-2.pcap'\n",
      "'_pcap2flows()' starts at 2021-05-03 13:18:56\n",
      "pcap_file: /code/2.Malwares/Benign/SMB-2.pcap\n"
     ]
    },
    {
     "name": "stderr",
     "output_type": "stream",
     "text": [
      "  2%|▏         | 200/8323 [00:00<00:08, 1010.63it/s]"
     ]
    },
    {
     "name": "stdout",
     "output_type": "stream",
     "text": [
      "After splitting flows, the number of subflows: 8323 and each of them has at least 2 packets.\n",
      "'_pcap2flows()' ends at 2021-05-03 13:19:50 and takes 0.8961 mins.\n"
     ]
    },
    {
     "name": "stderr",
     "output_type": "stream",
     "text": [
      "100%|██████████| 8323/8323 [00:07<00:00, 1074.35it/s]\n"
     ]
    },
    {
     "name": "stdout",
     "output_type": "stream",
     "text": [
      "'/code/2.Malwares/Benign'\n",
      "'Weibo-1coupe_00000_19700103043351.pcap'\n",
      "'_pcap2flows()' starts at 2021-05-03 13:19:58\n",
      "pcap_file: /code/2.Malwares/Benign/Weibo-1coupe_00000_19700103043351.pcap\n"
     ]
    },
    {
     "name": "stderr",
     "output_type": "stream",
     "text": [
      "  1%|▏         | 105/7795 [00:00<00:07, 1042.62it/s]"
     ]
    },
    {
     "name": "stdout",
     "output_type": "stream",
     "text": [
      "After splitting flows, the number of subflows: 7795 and each of them has at least 2 packets.\n",
      "'_pcap2flows()' ends at 2021-05-03 13:20:48 and takes 0.8338 mins.\n"
     ]
    },
    {
     "name": "stderr",
     "output_type": "stream",
     "text": [
      "100%|██████████| 7795/7795 [00:07<00:00, 1080.12it/s]\n"
     ]
    },
    {
     "name": "stdout",
     "output_type": "stream",
     "text": [
      "'/code/2.Malwares/Benign'\n",
      "'Weibo-4.pcap'\n",
      "'_pcap2flows()' starts at 2021-05-03 13:20:55\n",
      "pcap_file: /code/2.Malwares/Benign/Weibo-4.pcap\n"
     ]
    },
    {
     "name": "stderr",
     "output_type": "stream",
     "text": [
      "  3%|▎         | 224/7828 [00:00<00:06, 1121.33it/s]"
     ]
    },
    {
     "name": "stdout",
     "output_type": "stream",
     "text": [
      "After splitting flows, the number of subflows: 7828 and each of them has at least 2 packets.\n",
      "'_pcap2flows()' ends at 2021-05-03 13:21:48 and takes 0.8839 mins.\n"
     ]
    },
    {
     "name": "stderr",
     "output_type": "stream",
     "text": [
      "100%|██████████| 7828/7828 [00:07<00:00, 1077.58it/s]\n"
     ]
    },
    {
     "name": "stdout",
     "output_type": "stream",
     "text": [
      "'/code/2.Malwares/Benign'\n",
      "'SMB-1coupe_00004_19700101012107.pcap'\n",
      "'_pcap2flows()' starts at 2021-05-03 13:21:55\n",
      "pcap_file: /code/2.Malwares/Benign/SMB-1coupe_00004_19700101012107.pcap\n"
     ]
    },
    {
     "name": "stderr",
     "output_type": "stream",
     "text": [
      "  2%|▏         | 179/8031 [00:00<00:08, 900.56it/s]"
     ]
    },
    {
     "name": "stdout",
     "output_type": "stream",
     "text": [
      "After splitting flows, the number of subflows: 8031 and each of them has at least 2 packets.\n",
      "'_pcap2flows()' ends at 2021-05-03 13:22:48 and takes 0.8752 mins.\n"
     ]
    },
    {
     "name": "stderr",
     "output_type": "stream",
     "text": [
      "100%|██████████| 8031/8031 [00:08<00:00, 937.45it/s] \n"
     ]
    },
    {
     "name": "stdout",
     "output_type": "stream",
     "text": [
      "'/code/2.Malwares/Benign'\n",
      "'Weibo-1coupe_00005_19700101015045.pcap'\n",
      "'_pcap2flows()' starts at 2021-05-03 13:22:56\n",
      "pcap_file: /code/2.Malwares/Benign/Weibo-1coupe_00005_19700101015045.pcap\n"
     ]
    },
    {
     "name": "stderr",
     "output_type": "stream",
     "text": [
      " 25%|██▍       | 80/322 [00:00<00:00, 792.66it/s]"
     ]
    },
    {
     "name": "stdout",
     "output_type": "stream",
     "text": [
      "After splitting flows, the number of subflows: 322 and each of them has at least 2 packets.\n",
      "'_pcap2flows()' ends at 2021-05-03 13:22:58 and takes 0.032 mins.\n"
     ]
    },
    {
     "name": "stderr",
     "output_type": "stream",
     "text": [
      "100%|██████████| 322/322 [00:00<00:00, 916.59it/s]\n"
     ]
    },
    {
     "name": "stdout",
     "output_type": "stream",
     "text": [
      "'/code/2.Malwares/Benign'\n",
      "'FTP.pcap'\n",
      "'_pcap2flows()' starts at 2021-05-03 13:22:59\n",
      "pcap_file: /code/2.Malwares/Benign/FTP.pcap\n"
     ]
    },
    {
     "name": "stderr",
     "output_type": "stream",
     "text": [
      "  1%|          | 454/81036 [00:00<00:17, 4500.78it/s]"
     ]
    },
    {
     "name": "stdout",
     "output_type": "stream",
     "text": [
      "After splitting flows, the number of subflows: 81036 and each of them has at least 2 packets.\n",
      "'_pcap2flows()' ends at 2021-05-03 13:25:00 and takes 2.0168 mins.\n"
     ]
    },
    {
     "name": "stderr",
     "output_type": "stream",
     "text": [
      "100%|██████████| 81036/81036 [00:19<00:00, 4103.88it/s]\n"
     ]
    },
    {
     "name": "stdout",
     "output_type": "stream",
     "text": [
      "'/code/2.Malwares/Benign'\n",
      "'Weibo-1coupe_00001_19700103043351.pcap'\n",
      "'_pcap2flows()' starts at 2021-05-03 13:25:19\n",
      "pcap_file: /code/2.Malwares/Benign/Weibo-1coupe_00001_19700103043351.pcap\n"
     ]
    },
    {
     "name": "stderr",
     "output_type": "stream",
     "text": [
      "  1%|▏         | 107/7835 [00:00<00:07, 1064.27it/s]"
     ]
    },
    {
     "name": "stdout",
     "output_type": "stream",
     "text": [
      "After splitting flows, the number of subflows: 7835 and each of them has at least 2 packets.\n",
      "'_pcap2flows()' ends at 2021-05-03 13:26:16 and takes 0.9374 mins.\n"
     ]
    },
    {
     "name": "stderr",
     "output_type": "stream",
     "text": [
      "100%|██████████| 7835/7835 [00:07<00:00, 1063.79it/s]\n"
     ]
    },
    {
     "name": "stdout",
     "output_type": "stream",
     "text": [
      "'/code/2.Malwares/Benign'\n",
      "'Weibo-1coupe_00003_19700101013534.pcap'\n",
      "'_pcap2flows()' starts at 2021-05-03 13:26:23\n",
      "pcap_file: /code/2.Malwares/Benign/Weibo-1coupe_00003_19700101013534.pcap\n"
     ]
    },
    {
     "name": "stderr",
     "output_type": "stream",
     "text": [
      "  1%|          | 96/7840 [00:00<00:08, 959.58it/s]"
     ]
    },
    {
     "name": "stdout",
     "output_type": "stream",
     "text": [
      "After splitting flows, the number of subflows: 7840 and each of them has at least 2 packets.\n",
      "'_pcap2flows()' ends at 2021-05-03 13:27:12 and takes 0.8236 mins.\n"
     ]
    },
    {
     "name": "stderr",
     "output_type": "stream",
     "text": [
      "100%|██████████| 7840/7840 [00:07<00:00, 1085.71it/s]\n"
     ]
    },
    {
     "name": "stdout",
     "output_type": "stream",
     "text": [
      "'/code/2.Malwares/Benign'\n",
      "'SMB-1coupe_00001_19700103032455.pcap'\n",
      "'_pcap2flows()' starts at 2021-05-03 13:27:20\n",
      "pcap_file: /code/2.Malwares/Benign/SMB-1coupe_00001_19700103032455.pcap\n"
     ]
    },
    {
     "name": "stderr",
     "output_type": "stream",
     "text": [
      "  1%|▏         | 121/8308 [00:00<00:06, 1204.29it/s]"
     ]
    },
    {
     "name": "stdout",
     "output_type": "stream",
     "text": [
      "After splitting flows, the number of subflows: 8308 and each of them has at least 2 packets.\n",
      "'_pcap2flows()' ends at 2021-05-03 13:28:11 and takes 0.8551 mins.\n"
     ]
    },
    {
     "name": "stderr",
     "output_type": "stream",
     "text": [
      "100%|██████████| 8308/8308 [00:07<00:00, 1074.30it/s]\n"
     ]
    },
    {
     "name": "stdout",
     "output_type": "stream",
     "text": [
      "'/code/2.Malwares/Benign'\n",
      "'Weibo-1coupe_00004_19700101014241.pcap'\n",
      "'_pcap2flows()' starts at 2021-05-03 13:28:19\n",
      "pcap_file: /code/2.Malwares/Benign/Weibo-1coupe_00004_19700101014241.pcap\n"
     ]
    },
    {
     "name": "stderr",
     "output_type": "stream",
     "text": [
      "  1%|          | 96/7847 [00:00<00:08, 948.55it/s]"
     ]
    },
    {
     "name": "stdout",
     "output_type": "stream",
     "text": [
      "After splitting flows, the number of subflows: 7847 and each of them has at least 2 packets.\n",
      "'_pcap2flows()' ends at 2021-05-03 13:29:12 and takes 0.893 mins.\n"
     ]
    },
    {
     "name": "stderr",
     "output_type": "stream",
     "text": [
      "100%|██████████| 7847/7847 [00:09<00:00, 870.78it/s]\n"
     ]
    },
    {
     "name": "stdout",
     "output_type": "stream",
     "text": [
      "'/code/2.Malwares/Benign'\n",
      "'Weibo-1coupe_00002_19700101012837.pcap'\n",
      "'_pcap2flows()' starts at 2021-05-03 13:29:21\n",
      "pcap_file: /code/2.Malwares/Benign/Weibo-1coupe_00002_19700101012837.pcap\n"
     ]
    },
    {
     "name": "stderr",
     "output_type": "stream",
     "text": [
      "  1%|▏         | 100/7786 [00:00<00:07, 994.32it/s]"
     ]
    },
    {
     "name": "stdout",
     "output_type": "stream",
     "text": [
      "After splitting flows, the number of subflows: 7786 and each of them has at least 2 packets.\n",
      "'_pcap2flows()' ends at 2021-05-03 13:30:16 and takes 0.9187 mins.\n"
     ]
    },
    {
     "name": "stderr",
     "output_type": "stream",
     "text": [
      "100%|██████████| 7786/7786 [00:07<00:00, 1029.61it/s]\n"
     ]
    },
    {
     "name": "stdout",
     "output_type": "stream",
     "text": [
      "'/code/2.Malwares/Benign'\n",
      "'SMB-1coupe_00003_19700101011356.pcap'\n",
      "'_pcap2flows()' starts at 2021-05-03 13:30:24\n",
      "pcap_file: /code/2.Malwares/Benign/SMB-1coupe_00003_19700101011356.pcap\n"
     ]
    },
    {
     "name": "stderr",
     "output_type": "stream",
     "text": [
      "  3%|▎         | 206/7999 [00:00<00:07, 1024.84it/s]"
     ]
    },
    {
     "name": "stdout",
     "output_type": "stream",
     "text": [
      "After splitting flows, the number of subflows: 7999 and each of them has at least 2 packets.\n",
      "'_pcap2flows()' ends at 2021-05-03 13:31:17 and takes 0.8851 mins.\n"
     ]
    },
    {
     "name": "stderr",
     "output_type": "stream",
     "text": [
      "100%|██████████| 7999/7999 [00:07<00:00, 1048.90it/s]\n"
     ]
    },
    {
     "name": "stdout",
     "output_type": "stream",
     "text": [
      "'/code/2.Malwares/Benign'\n",
      "'SMB-1coupe_00002_19700101010615.pcap'\n",
      "'_pcap2flows()' starts at 2021-05-03 13:31:25\n",
      "pcap_file: /code/2.Malwares/Benign/SMB-1coupe_00002_19700101010615.pcap\n"
     ]
    },
    {
     "name": "stderr",
     "output_type": "stream",
     "text": [
      "  3%|▎         | 216/8044 [00:00<00:07, 1038.03it/s]"
     ]
    },
    {
     "name": "stdout",
     "output_type": "stream",
     "text": [
      "After splitting flows, the number of subflows: 8044 and each of them has at least 2 packets.\n",
      "'_pcap2flows()' ends at 2021-05-03 13:32:15 and takes 0.8413 mins.\n"
     ]
    },
    {
     "name": "stderr",
     "output_type": "stream",
     "text": [
      "100%|██████████| 8044/8044 [00:07<00:00, 1093.37it/s]\n"
     ]
    },
    {
     "name": "stdout",
     "output_type": "stream",
     "text": [
      "'/code/2.Malwares/Benign'\n",
      "'SMB-1coupe_00000_19700103032455.pcap'\n",
      "'_pcap2flows()' starts at 2021-05-03 13:32:23\n",
      "pcap_file: /code/2.Malwares/Benign/SMB-1coupe_00000_19700103032455.pcap\n"
     ]
    },
    {
     "name": "stderr",
     "output_type": "stream",
     "text": [
      "  2%|▏         | 131/8707 [00:00<00:06, 1309.81it/s]"
     ]
    },
    {
     "name": "stdout",
     "output_type": "stream",
     "text": [
      "After splitting flows, the number of subflows: 8707 and each of them has at least 2 packets.\n",
      "'_pcap2flows()' ends at 2021-05-03 13:33:13 and takes 0.8329 mins.\n"
     ]
    },
    {
     "name": "stderr",
     "output_type": "stream",
     "text": [
      "100%|██████████| 8707/8707 [00:07<00:00, 1184.11it/s]\n"
     ]
    },
    {
     "name": "stdout",
     "output_type": "stream",
     "text": [
      "'/code/2.Malwares/Benign'\n",
      "'Weibo-2.pcap'\n",
      "'_pcap2flows()' starts at 2021-05-03 13:33:20\n",
      "pcap_file: /code/2.Malwares/Benign/Weibo-2.pcap\n"
     ]
    },
    {
     "name": "stderr",
     "output_type": "stream",
     "text": [
      "  3%|▎         | 211/7919 [00:00<00:07, 1052.79it/s]"
     ]
    },
    {
     "name": "stdout",
     "output_type": "stream",
     "text": [
      "After splitting flows, the number of subflows: 7919 and each of them has at least 2 packets.\n",
      "'_pcap2flows()' ends at 2021-05-03 13:34:10 and takes 0.8419 mins.\n"
     ]
    },
    {
     "name": "stderr",
     "output_type": "stream",
     "text": [
      "100%|██████████| 7919/7919 [00:07<00:00, 1081.40it/s]\n"
     ]
    },
    {
     "name": "stdout",
     "output_type": "stream",
     "text": [
      "'/code/2.Malwares/Malware'\n",
      "'Htbot.pcap'\n",
      "'_pcap2flows()' starts at 2021-05-03 13:34:18\n",
      "pcap_file: /code/2.Malwares/Malware/Htbot.pcap\n"
     ]
    },
    {
     "name": "stderr",
     "output_type": "stream",
     "text": [
      "  4%|▍         | 415/9834 [00:00<00:02, 4144.40it/s]"
     ]
    },
    {
     "name": "stdout",
     "output_type": "stream",
     "text": [
      "After splitting flows, the number of subflows: 9834 and each of them has at least 2 packets.\n",
      "'_pcap2flows()' ends at 2021-05-03 13:35:06 and takes 0.8116 mins.\n"
     ]
    },
    {
     "name": "stderr",
     "output_type": "stream",
     "text": [
      "100%|██████████| 9834/9834 [00:02<00:00, 3984.83it/s]\n"
     ]
    },
    {
     "name": "stdout",
     "output_type": "stream",
     "text": [
      "'/code/2.Malwares/Malware'\n",
      "'Miuref.pcap'\n",
      "'_pcap2flows()' starts at 2021-05-03 13:35:09\n",
      "pcap_file: /code/2.Malwares/Malware/Miuref.pcap\n"
     ]
    },
    {
     "name": "stderr",
     "output_type": "stream",
     "text": [
      "  2%|▏         | 417/18199 [00:00<00:04, 4169.41it/s]"
     ]
    },
    {
     "name": "stdout",
     "output_type": "stream",
     "text": [
      "After splitting flows, the number of subflows: 18199 and each of them has at least 2 packets.\n",
      "'_pcap2flows()' ends at 2021-05-03 13:35:36 and takes 0.4444 mins.\n"
     ]
    },
    {
     "name": "stderr",
     "output_type": "stream",
     "text": [
      "100%|██████████| 18199/18199 [00:04<00:00, 3879.96it/s]\n"
     ]
    },
    {
     "name": "stdout",
     "output_type": "stream",
     "text": [
      "'/code/2.Malwares/Malware'\n",
      "'Shifu.pcap'\n",
      "'_pcap2flows()' starts at 2021-05-03 13:35:40\n",
      "pcap_file: /code/2.Malwares/Malware/Shifu.pcap\n"
     ]
    },
    {
     "name": "stderr",
     "output_type": "stream",
     "text": [
      " 12%|█▏        | 676/5589 [00:00<00:00, 6755.71it/s]"
     ]
    },
    {
     "name": "stdout",
     "output_type": "stream",
     "text": [
      "After splitting flows, the number of subflows: 5589 and each of them has at least 2 packets.\n",
      "'_pcap2flows()' ends at 2021-05-03 13:38:46 and takes 3.0969 mins.\n"
     ]
    },
    {
     "name": "stderr",
     "output_type": "stream",
     "text": [
      "100%|██████████| 5589/5589 [00:00<00:00, 6722.10it/s]\n"
     ]
    },
    {
     "name": "stdout",
     "output_type": "stream",
     "text": [
      "'/code/2.Malwares/Malware'\n",
      "'Nsis-ay.pcap'\n",
      "'_pcap2flows()' starts at 2021-05-03 13:38:47\n",
      "pcap_file: /code/2.Malwares/Malware/Nsis-ay.pcap\n"
     ]
    },
    {
     "name": "stderr",
     "output_type": "stream",
     "text": [
      "  4%|▍         | 307/7729 [00:00<00:02, 3055.92it/s]"
     ]
    },
    {
     "name": "stdout",
     "output_type": "stream",
     "text": [
      "After splitting flows, the number of subflows: 7729 and each of them has at least 2 packets.\n",
      "'_pcap2flows()' ends at 2021-05-03 13:40:35 and takes 1.7989 mins.\n"
     ]
    },
    {
     "name": "stderr",
     "output_type": "stream",
     "text": [
      "100%|██████████| 7729/7729 [00:01<00:00, 4218.49it/s]\n"
     ]
    },
    {
     "name": "stdout",
     "output_type": "stream",
     "text": [
      "'/code/2.Malwares/Malware'\n",
      "'Geodo.pcap'\n",
      "'_pcap2flows()' starts at 2021-05-03 13:40:37\n",
      "pcap_file: /code/2.Malwares/Malware/Geodo.pcap\n"
     ]
    },
    {
     "name": "stderr",
     "output_type": "stream",
     "text": [
      "  2%|▏         | 750/44508 [00:00<00:05, 7491.56it/s]"
     ]
    },
    {
     "name": "stdout",
     "output_type": "stream",
     "text": [
      "After splitting flows, the number of subflows: 44508 and each of them has at least 2 packets.\n",
      "'_pcap2flows()' ends at 2021-05-03 13:41:53 and takes 1.279 mins.\n"
     ]
    },
    {
     "name": "stderr",
     "output_type": "stream",
     "text": [
      "100%|██████████| 44508/44508 [00:07<00:00, 6277.30it/s]\n"
     ]
    },
    {
     "name": "stdout",
     "output_type": "stream",
     "text": [
      "'/code/2.Malwares/Malware'\n",
      "'Virut.pcap'\n",
      "'_pcap2flows()' starts at 2021-05-03 13:42:00\n",
      "pcap_file: /code/2.Malwares/Malware/Virut.pcap\n"
     ]
    },
    {
     "name": "stderr",
     "output_type": "stream",
     "text": [
      "  1%|          | 546/57372 [00:00<00:10, 5458.53it/s]"
     ]
    },
    {
     "name": "stdout",
     "output_type": "stream",
     "text": [
      "After splitting flows, the number of subflows: 57372 and each of them has at least 2 packets.\n",
      "'_pcap2flows()' ends at 2021-05-03 13:44:06 and takes 2.0905 mins.\n"
     ]
    },
    {
     "name": "stderr",
     "output_type": "stream",
     "text": [
      "100%|██████████| 57372/57372 [00:08<00:00, 6819.37it/s]\n"
     ]
    },
    {
     "name": "stdout",
     "output_type": "stream",
     "text": [
      "'/code/2.Malwares/Malware'\n",
      "'Cridex.pcap'\n",
      "'_pcap2flows()' starts at 2021-05-03 13:44:14\n",
      "pcap_file: /code/2.Malwares/Malware/Cridex.pcap\n"
     ]
    },
    {
     "name": "stderr",
     "output_type": "stream",
     "text": [
      "  1%|          | 625/65462 [00:00<00:10, 6244.79it/s]"
     ]
    },
    {
     "name": "stdout",
     "output_type": "stream",
     "text": [
      "After splitting flows, the number of subflows: 65462 and each of them has at least 2 packets.\n",
      "'_pcap2flows()' ends at 2021-05-03 13:46:16 and takes 2.0201 mins.\n"
     ]
    },
    {
     "name": "stderr",
     "output_type": "stream",
     "text": [
      "100%|██████████| 65462/65462 [00:10<00:00, 6093.43it/s]\n"
     ]
    },
    {
     "name": "stdout",
     "output_type": "stream",
     "text": [
      "'/code/2.Malwares/Malware'\n",
      "'Tinba.pcap'\n",
      "'_pcap2flows()' starts at 2021-05-03 13:46:26\n",
      "pcap_file: /code/2.Malwares/Malware/Tinba.pcap\n"
     ]
    },
    {
     "name": "stderr",
     "output_type": "stream",
     "text": [
      " 27%|██▋       | 622/2281 [00:00<00:00, 6209.42it/s]"
     ]
    },
    {
     "name": "stdout",
     "output_type": "stream",
     "text": [
      "After splitting flows, the number of subflows: 2281 and each of them has at least 2 packets.\n",
      "'_pcap2flows()' ends at 2021-05-03 13:46:37 and takes 0.171 mins.\n"
     ]
    },
    {
     "name": "stderr",
     "output_type": "stream",
     "text": [
      "100%|██████████| 2281/2281 [00:00<00:00, 6289.00it/s]\n"
     ]
    },
    {
     "name": "stdout",
     "output_type": "stream",
     "text": [
      "'/code/2.Malwares/Malware'\n",
      "'Zeus.pcap'\n",
      "'_pcap2flows()' starts at 2021-05-03 13:46:37\n",
      "pcap_file: /code/2.Malwares/Malware/Zeus.pcap\n"
     ]
    },
    {
     "name": "stderr",
     "output_type": "stream",
     "text": [
      "  4%|▍         | 651/16585 [00:00<00:02, 6507.28it/s]"
     ]
    },
    {
     "name": "stdout",
     "output_type": "stream",
     "text": [
      "After splitting flows, the number of subflows: 16585 and each of them has at least 2 packets.\n",
      "'_pcap2flows()' ends at 2021-05-03 13:47:11 and takes 0.5756 mins.\n"
     ]
    },
    {
     "name": "stderr",
     "output_type": "stream",
     "text": [
      "100%|██████████| 16585/16585 [00:02<00:00, 7185.15it/s]\n"
     ]
    },
    {
     "name": "stdout",
     "output_type": "stream",
     "text": [
      "'/code/2.Malwares/Malware'\n",
      "'Neris.pcap'\n",
      "'_pcap2flows()' starts at 2021-05-03 13:47:14\n",
      "pcap_file: /code/2.Malwares/Malware/Neris.pcap\n"
     ]
    },
    {
     "name": "stderr",
     "output_type": "stream",
     "text": [
      "  1%|          | 421/43788 [00:00<00:10, 4199.38it/s]"
     ]
    },
    {
     "name": "stdout",
     "output_type": "stream",
     "text": [
      "After splitting flows, the number of subflows: 43788 and each of them has at least 2 packets.\n",
      "'_pcap2flows()' ends at 2021-05-03 13:50:16 and takes 3.0439 mins.\n"
     ]
    },
    {
     "name": "stderr",
     "output_type": "stream",
     "text": [
      "100%|██████████| 43788/43788 [00:09<00:00, 4785.25it/s]\n"
     ]
    }
   ],
   "source": [
    "import random\n",
    "for label ,cat in enumerate(cats): # pour chaque dossier Benign, Malware\n",
    "    path = os.path.join(dataDir,cat)\n",
    "    for filePcap in os.listdir(path): #parcours les fichiers pour chaque dossier\n",
    "        pprint.pprint(path)\n",
    "        pprint.pprint(filePcap)\n",
    "\n",
    "        parsedPcap = PCAP(\n",
    "            os.path.join(path,filePcap),\n",
    "            flow_ptks_thres=packetsPerFlow,\n",
    "            verbose=3\n",
    "        )\n",
    "        parsedPcap.pcap2flows(interval=1000)\n",
    "        for flow in tqdm(parsedPcap.flows): #(val,182.168.1.15,,)(<Ether\n",
    "            flow = flow[1:] # retirer le premier élément car inutile\n",
    "            for packets in flow:\n",
    "                writer = random.choice(arrOfTfrecordsWriter)\n",
    "                tf_example = packet_example(processPackets(packets), label)\n",
    "                writer.write(tf_example.SerializeToString())\n",
    "for writer in arrOfTfrecordsWriter:\n",
    "    writer.close()\n"
   ]
  },
  {
   "cell_type": "code",
   "execution_count": 11,
   "id": "469adc5d",
   "metadata": {},
   "outputs": [
    {
     "name": "stdout",
     "output_type": "stream",
     "text": [
      "['shard_4.tfrecords', 'shard_3.tfrecords']\n"
     ]
    }
   ],
   "source": [
    "tfrecordsPath = os.path.join(tfrecorsFolder)\n",
    "listtfRecordsFile = os.listdir(tfrecordsPath)\n",
    "validationFiles = random.sample(listtfRecordsFile,2)\n",
    "pprint.pprint(validationFiles)\n",
    "os.rename(tfrecordsPath + validationFiles[0],validationFolder + validationFiles[0])\n",
    "os.rename(tfrecordsPath + validationFiles[1],testFolder + validationFiles[1])"
   ]
  },
  {
   "cell_type": "code",
   "execution_count": null,
   "id": "9fef67c2",
   "metadata": {},
   "outputs": [],
   "source": []
  }
 ],
 "metadata": {
  "kernelspec": {
   "display_name": "Python 3",
   "language": "python",
   "name": "python3"
  },
  "language_info": {
   "codemirror_mode": {
    "name": "ipython",
    "version": 3
   },
   "file_extension": ".py",
   "mimetype": "text/x-python",
   "name": "python",
   "nbconvert_exporter": "python",
   "pygments_lexer": "ipython3",
   "version": "3.7.3"
  }
 },
 "nbformat": 4,
 "nbformat_minor": 5
}
