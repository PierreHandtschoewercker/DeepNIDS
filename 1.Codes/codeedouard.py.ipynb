{
 "cells": [
  {
   "cell_type": "code",
   "execution_count": 3,
   "metadata": {
    "scrolled": true,
    "tags": []
   },
   "outputs": [],
   "source": [
    "#IMPORT DES DEPENDANCES\n",
    "\n",
    "import numpy as np\n",
    "import os\n",
    "#import cv2\n",
    "#from tqdm import tqdm\n",
    "\n",
    "\n"
   ]
  },
  {
   "cell_type": "code",
   "execution_count": 4,
   "metadata": {},
   "outputs": [],
   "source": [
    "#Creer entrainement de données\n",
    "\n",
    "#import tensorflow as tf\n",
    "from tensorflow import keras\n",
    "\n",
    "from tensorflow.keras.models import Sequential\n",
    "from tensorflow.keras.layers import Dense, Dropout, Activation, Flatten, Conv1D, Conv2D, MaxPooling2D\n",
    "import time"
   ]
  },
  {
   "cell_type": "code",
   "execution_count": 5,
   "metadata": {},
   "outputs": [
    {
     "ename": "IndentationError",
     "evalue": "expected an indented block (<ipython-input-5-0065f10f94b1>, line 17)",
     "output_type": "error",
     "traceback": [
      "\u001b[0;36m  File \u001b[0;32m\"<ipython-input-5-0065f10f94b1>\"\u001b[0;36m, line \u001b[0;32m17\u001b[0m\n\u001b[0;31m    for layer_size in layer_sizes:\u001b[0m\n\u001b[0m      ^\u001b[0m\n\u001b[0;31mIndentationError\u001b[0m\u001b[0;31m:\u001b[0m expected an indented block\n"
     ]
    }
   ],
   "source": [
    "\n",
    "\n",
    "\n",
    "X = X/255.0 # 255 est le nombre max de valeures dans un octet\n",
    "\n",
    "#dense_layers = [0]\n",
    "#layer_sizes = [64]\n",
    "#conv_layers = [3]\n",
    "\n",
    "for dense_layer in dense_layers:\n",
    "for layer_size in layer_sizes:\n",
    "    for conv_layer in conv_layers:\n",
    "             \n",
    "            \n",
    "        model = Sequential()\n",
    "    \n",
    "        #1 couche con1D de 32 filtres de taille 5 \n",
    "        model.add(Conv1D(32, 5,))\n",
    "                      \n",
    "        # activation maps        \n",
    "        model.add(Activation('relu'))\n",
    "        \n",
    "        #flatten        \n",
    "        model.add(Flatten())\n",
    "           \n",
    "        #1 couche Dense de 50 \n",
    "        model.add(Dense(50))\n",
    "            \n",
    "        #1 couche Dense de 100 \n",
    "        model.add(Dense(100))       \n",
    "                      \n",
    "                  \n",
    "           #model.add(MaxPooling2D(pool_size=(2, 2)))\n",
    "            \n",
    "            \n",
    "            \n",
    "            model.compile(loss='binary_crossentropy',\n",
    "                          optimizer='adam',\n",
    "                          metrics=['accuracy'],\n",
    "                          )\n",
    "\n",
    "            model.fit(X, y,\n",
    "                      batch_size=32,\n",
    "                      epochs=5, # nombre de fois ou on passe sur les données\n",
    "                      validation_split=0.3,\n",
    "                      )\n",
    "\n",
    "model.save('/code/3.Modeles/modelchiensetchats.model')     \n"
   ]
  },
  {
   "cell_type": "code",
   "execution_count": null,
   "metadata": {},
   "outputs": [],
   "source": [
    "for dense_layer in dense_layers:\n",
    "    for layer_size in layer_sizes:\n",
    "        for conv_layer in conv_layers:\n",
    "            \n",
    "            model = Sequential()\n",
    "\n",
    "            model.add(Conv2D(layer_size, (3, 3), input_shape=X.shape[1:]))\n",
    "            model.add(Activation('relu'))\n",
    "            model.add(MaxPooling2D(pool_size=(2, 2)))\n",
    "\n",
    "            for l in range(conv_layer-1):\n",
    "                model.add(Conv2D(layer_size, (3, 3)))\n",
    "                model.add(Activation('relu'))\n",
    "                model.add(MaxPooling2D(pool_size=(2, 2)))\n",
    "\n",
    "            model.add(Flatten())\n",
    "\n",
    "            for _ in range(dense_layer):\n",
    "                model.add(Dense(layer_size))\n",
    "                model.add(Activation('relu'))\n",
    "\n",
    "            model.add(Dense(1))\n",
    "            model.add(Activation('sigmoid'))\n",
    "\n",
    "            \n",
    "            model.compile(loss='binary_crossentropy',\n",
    "                          optimizer='adam',\n",
    "                          metrics=['accuracy'],\n",
    "                          )\n",
    "\n",
    "            model.fit(X, y,\n",
    "                      batch_size=32,\n",
    "                      epochs=10,\n",
    "                      validation_split=0.3,\n",
    "                      )\n",
    "\n",
    "model.save('/code/3.Modeles/modelchiensetchats.model')"
   ]
  }
 ],
 "metadata": {
  "kernelspec": {
   "display_name": "Python 3",
   "language": "python",
   "name": "python3"
  },
  "language_info": {
   "codemirror_mode": {
    "name": "ipython",
    "version": 3
   },
   "file_extension": ".py",
   "mimetype": "text/x-python",
   "name": "python",
   "nbconvert_exporter": "python",
   "pygments_lexer": "ipython3",
   "version": "3.7.3"
  }
 },
 "nbformat": 4,
 "nbformat_minor": 4
}
