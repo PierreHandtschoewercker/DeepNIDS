{
 "cells": [
  {
   "cell_type": "code",
   "execution_count": 1,
   "metadata": {},
   "outputs": [],
   "source": [
    "#IMPORT DES DEPENDANCES\n",
    "\n",
    "import tensorflow as tf\n",
    "from pprint import pprint\n",
    "import random\n",
    "from tqdm import tqdm"
   ]
  },
  {
   "cell_type": "code",
   "execution_count": 10,
   "metadata": {},
   "outputs": [],
   "source": [
    "pathTFrecords = '/code/2.Malwares/tfrecords/'\n",
    "filePattern = pathTFrecords+'*.tfrecords'"
   ]
  },
  {
   "cell_type": "code",
   "execution_count": 11,
   "metadata": {},
   "outputs": [],
   "source": [
    "def parser(input):\n",
    "    name_to_feature  = {\n",
    "        'label': tf.io.FixedLenFeature([],tf.int64),\n",
    "        'packet1' : tf.io.FixedLenFeature([],tf.string),\n",
    "        'packet2' : tf.io.FixedLenFeature([],tf.string),\n",
    "    }\n",
    "    return tf.io.parse_single_example(input, name_to_feature)\n",
    "    "
   ]
  },
  {
   "cell_type": "code",
   "execution_count": 12,
   "metadata": {},
   "outputs": [],
   "source": [
    "def decode_record(record):\n",
    "    packet1 = record['packet1']\n",
    "    packet2 = record['packet2']\n",
    "    label = record['label']\n",
    "    return (packet1, packet2, label)\n"
   ]
  },
  {
   "cell_type": "code",
   "execution_count": 13,
   "metadata": {
    "scrolled": true
   },
   "outputs": [],
   "source": [
    "listOfFiles = tf.data.TFRecordDataset.list_files(filePattern)\n",
    "dataset = tf.data.TFRecordDataset(listOfFiles,buffer_size=100)"
   ]
  },
  {
   "cell_type": "code",
   "execution_count": 14,
   "metadata": {},
   "outputs": [
    {
     "name": "stderr",
     "output_type": "stream",
     "text": [
      "0it [00:00, ?it/s]"
     ]
    },
    {
     "name": "stdout",
     "output_type": "stream",
     "text": [
      "fini !\n"
     ]
    },
    {
     "name": "stderr",
     "output_type": "stream",
     "text": [
      "\n"
     ]
    }
   ],
   "source": [
    "decoded_dataset = []\n",
    "#try:\n",
    "for record in tqdm(dataset):\n",
    "    parsed_record = parser(record)\n",
    "    decoded_record = decode_record(parsed_record)\n",
    "    decoded_dataset.append(decoded_record)\n",
    "#except:\n",
    " #   print('lol it broke!')\n",
    "print(\"fini !\")\n",
    "        \n",
    "dataset = []"
   ]
  },
  {
   "cell_type": "code",
   "execution_count": 15,
   "metadata": {
    "scrolled": true
   },
   "outputs": [
    {
     "name": "stdout",
     "output_type": "stream",
     "text": [
      "0\n",
      "[]\n"
     ]
    }
   ],
   "source": [
    "random.shuffle(decoded_dataset)\n",
    "print(len(decoded_dataset))\n",
    "pprint(decoded_dataset[:10]) #échantillon randomisé"
   ]
  },
  {
   "cell_type": "code",
   "execution_count": 8,
   "metadata": {},
   "outputs": [],
   "source": [
    "#Creer entrainement de données\n",
    "\n",
    "import numpy as np\n",
    "from tensorflow import keras\n",
    "import os\n",
    "\n",
    "from tensorflow.keras.models import Sequential\n",
    "from tensorflow.keras.layers import Dense, Dropout, Activation, Flatten, Conv1D, Conv2D, MaxPooling2D\n",
    "import time\n",
    "\n",
    "\n"
   ]
  },
  {
   "cell_type": "code",
   "execution_count": 9,
   "metadata": {},
   "outputs": [
    {
     "ename": "AttributeError",
     "evalue": "'list' object has no attribute 'shape'",
     "output_type": "error",
     "traceback": [
      "\u001b[0;31m---------------------------------------------------------------------------\u001b[0m",
      "\u001b[0;31mAttributeError\u001b[0m                            Traceback (most recent call last)",
      "\u001b[0;32m<ipython-input-9-5de9805fe461>\u001b[0m in \u001b[0;36m<module>\u001b[0;34m\u001b[0m\n\u001b[1;32m      4\u001b[0m \u001b[0mmodel\u001b[0m \u001b[0;34m=\u001b[0m \u001b[0mtf\u001b[0m\u001b[0;34m.\u001b[0m\u001b[0mkeras\u001b[0m\u001b[0;34m.\u001b[0m\u001b[0mSequential\u001b[0m\u001b[0;34m(\u001b[0m\u001b[0;34m)\u001b[0m\u001b[0;34m\u001b[0m\u001b[0;34m\u001b[0m\u001b[0m\n\u001b[1;32m      5\u001b[0m \u001b[0;34m\u001b[0m\u001b[0m\n\u001b[0;32m----> 6\u001b[0;31m \u001b[0mmodel\u001b[0m\u001b[0;34m.\u001b[0m\u001b[0madd\u001b[0m\u001b[0;34m(\u001b[0m\u001b[0mtf\u001b[0m\u001b[0;34m.\u001b[0m\u001b[0mkeras\u001b[0m\u001b[0;34m.\u001b[0m\u001b[0mlayers\u001b[0m\u001b[0;34m.\u001b[0m\u001b[0mConv1D\u001b[0m\u001b[0;34m(\u001b[0m\u001b[0;36m32\u001b[0m\u001b[0;34m,\u001b[0m \u001b[0;36m3\u001b[0m\u001b[0;34m,\u001b[0m \u001b[0mactivation\u001b[0m\u001b[0;34m=\u001b[0m\u001b[0;34m'relu'\u001b[0m\u001b[0;34m,\u001b[0m\u001b[0minput_shape\u001b[0m\u001b[0;34m=\u001b[0m\u001b[0mdecoded_dataset\u001b[0m\u001b[0;34m.\u001b[0m\u001b[0mshape\u001b[0m\u001b[0;34m)\u001b[0m\u001b[0;34m)\u001b[0m\u001b[0;34m\u001b[0m\u001b[0;34m\u001b[0m\u001b[0m\n\u001b[0m\u001b[1;32m      7\u001b[0m \u001b[0;34m\u001b[0m\u001b[0m\n\u001b[1;32m      8\u001b[0m \u001b[0;34m\u001b[0m\u001b[0m\n",
      "\u001b[0;31mAttributeError\u001b[0m: 'list' object has no attribute 'shape'"
     ]
    }
   ],
   "source": [
    "# CREATION D'UN MODELE\n",
    "\n",
    "            \n",
    "model = tf.keras.Sequential()\n",
    "\n",
    "model.add(tf.keras.layers.Conv1D(32, 3, activation='relu',input_shape=decoded_dataset.shape))\n",
    "\n",
    "          \n",
    "          \n",
    "model.add(tf.keras.layers.Dense(4))\n",
    "len(model.weights)\n",
    "\n",
    "    \n",
    "\n",
    "    \n",
    "        #1 couche con1D de 32 filtres de taille 5 \n",
    "        #model.add(tf.keras.layers.Conv1D(32, 5,, input_shape=decoded_dataset.shape))         \n",
    "        # activation maps        \n",
    "        #model.add(Activation('relu'))\n",
    "        \n",
    "        #flatten        \n",
    "        #model.add(Flatten())\n",
    "           \n",
    "        #1 couche Dense de 50 \n",
    "        #model.add(Dense(50))\n",
    "            \n",
    "        #1 couche Dense de 100 \n",
    "        #model.add(Dense(100))       \n",
    "                      \n",
    "                  \n",
    "        #model.add(MaxPooling2D(pool_size=(2, 2)))\n",
    "            \n",
    "            \n",
    "            \n",
    "          "
   ]
  },
  {
   "cell_type": "code",
   "execution_count": null,
   "metadata": {},
   "outputs": [],
   "source": [
    "# CREATION D'UN MODELE\n",
    "\n",
    "            \n",
    "model = tf.keras.Sequential()\n",
    "\n",
    "model.add(tf.keras.layers.Conv1D(32, 3, activation='relu',input_shape=decoded_dataset.shape))\n",
    "\n",
    "          \n",
    "          \n",
    "model.add(tf.keras.layers.Dense(4))\n",
    "len(model.weights)\n",
    "\n",
    "    \n",
    "\n",
    "    \n",
    "        #1 couche con1D de 32 filtres de taille 5 \n",
    "        #model.add(tf.keras.layers.Conv1D(32, 5,, input_shape=decoded_dataset.shape))         \n",
    "        # activation maps        \n",
    "        #model.add(Activation('relu'))\n",
    "        \n",
    "        #flatten        \n",
    "        #model.add(Flatten())\n",
    "           \n",
    "        #1 couche Dense de 50 \n",
    "        #model.add(Dense(50))\n",
    "            \n",
    "        #1 couche Dense de 100 \n",
    "        #model.add(Dense(100))       \n",
    "                      \n",
    "                  \n",
    "        #model.add(MaxPooling2D(pool_size=(2, 2)))\n",
    "            \n",
    "            \n",
    "              model.compile(loss='binary_crossentropy',\n",
    "                          optimizer='adam',\n",
    "                          metrics=['accuracy'],\n",
    "                          )\n",
    "\n",
    "            model.fit(X, y, # x c'est le données et y les labels \n",
    "                      batch_size=32,\n",
    "                      epochs=10, # nombre de fois ou on passe sur les données\n",
    "                      validation_split=0.3,\n",
    "                      )\n",
    "\n",
    "model.save('/code/3.Modeles/modelchiensetchats.model')"
   ]
  }
 ],
 "metadata": {
  "kernelspec": {
   "display_name": "Python 3",
   "language": "python",
   "name": "python3"
  },
  "language_info": {
   "codemirror_mode": {
    "name": "ipython",
    "version": 3
   },
   "file_extension": ".py",
   "mimetype": "text/x-python",
   "name": "python",
   "nbconvert_exporter": "python",
   "pygments_lexer": "ipython3",
   "version": "3.7.3"
  }
 },
 "nbformat": 4,
 "nbformat_minor": 2
}
