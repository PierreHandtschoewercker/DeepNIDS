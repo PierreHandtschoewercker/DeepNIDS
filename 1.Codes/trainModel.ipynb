{
 "metadata": {
  "orig_nbformat": 2,
  "kernelspec": {
   "name": "python3",
   "display_name": "Python 3",
   "language": "python"
  }
 },
 "nbformat": 4,
 "nbformat_minor": 2,
 "cells": [
  {
   "cell_type": "code",
   "execution_count": 10,
   "metadata": {},
   "outputs": [],
   "source": [
    "import tensorflow as tf\n",
    "from pprint import pprint"
   ]
  },
  {
   "cell_type": "code",
   "execution_count": 11,
   "metadata": {},
   "outputs": [],
   "source": [
    "pathTFrecords = '2.Malwares/tfrecords/'\n",
    "filePattern = pathTFrecords+'*.tfrecords'"
   ]
  },
  {
   "cell_type": "code",
   "execution_count": 13,
   "metadata": {},
   "outputs": [],
   "source": [
    "def parser(input):\n",
    "    name_to_feature  = {\n",
    "        'label': tf.io.FixedLenFeature([],tf.int64),\n",
    "        'packet1' : tf.io.FixedLenFeature([],tf.string),\n",
    "        'packet2' : tf.io.FixedLenFeature([],tf.string),\n",
    "    }\n",
    "    return tf.io.parse_single_example(input, name_to_feature)\n",
    "    "
   ]
  },
  {
   "cell_type": "code",
   "execution_count": 15,
   "metadata": {},
   "outputs": [],
   "source": [
    "def decode_record(record):\n",
    "    packet1 = record['packet1']\n",
    "    packet2 = record['packet2']\n",
    "    label = record['label']\n",
    "    return (packet1, packet2, label)\n"
   ]
  },
  {
   "cell_type": "code",
   "execution_count": 16,
   "metadata": {},
   "outputs": [],
   "source": [
    "listOfFiles = tf.data.TFRecordDataset.list_files(filePattern)\n",
    "dataset = tf.data.TFRecordDataset(listOfFiles,buffer_size=10000 ,num_parallel_reads=8)"
   ]
  },
  {
   "cell_type": "code",
   "execution_count": 17,
   "metadata": {},
   "outputs": [],
   "source": [
    "dataset = dataset.shuffle(buffer_size=10000)"
   ]
  },
  {
   "cell_type": "code",
   "execution_count": 23,
   "metadata": {},
   "outputs": [
    {
     "output_type": "stream",
     "name": "stdout",
     "text": [
      "<MapDataset shapes: {label: (), packet1: (), packet2: ()}, types: {label: tf.int64, packet1: tf.string, packet2: tf.string}>\n"
     ]
    }
   ],
   "source": [
    "dataset = dataset.map(parser))"
   ]
  },
  {
   "cell_type": "code",
   "execution_count": null,
   "metadata": {},
   "outputs": [],
   "source": []
  }
 ]
}